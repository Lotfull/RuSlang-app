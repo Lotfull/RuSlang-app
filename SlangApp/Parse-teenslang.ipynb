{
 "cells": [
  {
   "cell_type": "code",
   "execution_count": 46,
   "metadata": {
    "collapsed": true
   },
   "outputs": [],
   "source": [
    "# coding=utf-8\n",
    "import numpy as np\n",
    "import os\n",
    "import pandas as pd\n",
    "import csv\n",
    "import sqlite3 as lite\n",
    "from bs4 import BeautifulSoup\n",
    "from selenium import webdriver\n",
    "from shutil import copyfile\n",
    "teenslang_appwords_csv = \"teenslang_appwords.csv\"\n",
    "test_dict_file = \"test_dict.csv\"\n",
    "rus_letters_numbers_path = \"rus_letters_numbers.npy\"\n",
    "\n",
    "all_words_links_path = 'all_words_links.npy'\n",
    "vsekidki_fullwords_csv = 'vsekidki_fullwords.csv'\n",
    "vsekidki_appwords_csv = \"vsekidki_appwords.csv\"\n",
    "vsekidki_words_page = 'vsekidki_words_npy/vsekidki_words_page'"
   ]
  },
  {
   "cell_type": "markdown",
   "metadata": {},
   "source": [
    "### Functions"
   ]
  },
  {
   "cell_type": "code",
   "execution_count": 15,
   "metadata": {
    "collapsed": true
   },
   "outputs": [],
   "source": [
    "def Text_from_html_object(text):\n",
    "    start = text.find(\"<\")\n",
    "    finish = text.find(\">\")\n",
    "    text = text[:start] + text[finish + 1:]\n",
    "    check_for_tag = text.find('<', start)\n",
    "    while check_for_tag != -1:\n",
    "            end_of_tag = text.find('>', check_for_tag)\n",
    "            text = text[:check_for_tag] + text[end_of_tag + 1:]\n",
    "            check_for_tag = text.find('<', check_for_tag)\n",
    "    return text\n",
    "\n",
    "def Text_from_html_arr(arr):\n",
    "    answer_text = ''\n",
    "    for object in arr:\n",
    "        text = str(object)\n",
    "        check_for_tag = text.find('<')\n",
    "        while check_for_tag != -1:\n",
    "            end_of_tag = text.find('>', check_for_tag)\n",
    "            text = text[:check_for_tag] + text[end_of_tag + 1:]\n",
    "            check_for_tag = text.find('<', check_for_tag)\n",
    "        answer_text += text\n",
    "    return answer_text\n",
    "\n",
    "def get_page_count(soup):\n",
    "    list_of_pages = soup.find_all('a', class_='page_number')\n",
    "    try:\n",
    "        last_page = list_of_pages[-2]\n",
    "    except IndexError:\n",
    "        return 1\n",
    "    last_number = Text_from_html_object(str(last_page))\n",
    "    return int(last_number)\n",
    "\n",
    "def take_rus_letters_numbers(soup):\n",
    "    links = []\n",
    "    list_of_links = soup.find_all('a', class_='alph_menu')\n",
    "    for link in list_of_links:\n",
    "        pos = int(str(link).find(\"%D0%\")) + 4\n",
    "        name = str(str(link)[pos:pos+2])\n",
    "        if name != \"81\":\n",
    "            links.append(name)\n",
    "    return links\n",
    "\n",
    "def make_save(path):\n",
    "    with open(path, 'w') as csvfile:\n",
    "        writer = csv.writer(csvfile)\n",
    "        writer.writerow(('name', 'definition', 'type', 'group', 'examples', 'origin', 'hashtags', 'synonyms'))\n",
    "\n",
    "def add_to_save(dict, path):\n",
    "    with open(path, 'a') as csvfile:\n",
    "        writer = csv.writer(csvfile)\n",
    "        for word in dict:\n",
    "            type = word['type']\n",
    "            group = word['group']\n",
    "            examples = word['examples']\n",
    "            origin = word['origin']\n",
    "            hashtags = word['hashtags']\n",
    "            synonyms = word['synonyms']\n",
    "            writer.writerow((word['name'], word['definition'], word['type'], word['group'], \n",
    "                             word['examples'], word['origin'], word['hashtags'], word['synonyms']))\n",
    "            \n",
    "\n",
    "    \n",
    "# and then rename mycsv.out to mycsv.csv if you wish.\n",
    "\n",
    "def get_words_from_Teenslang(from_i, to_i, file):\n",
    "    make_save(file)\n",
    "    for j in range(from_i, to_i + 1):\n",
    "        driver.get('http://teenslang.su/content/%D0%'+ rus_letters_numbers[j]) # download site to the Selenium\n",
    "        html = driver.page_source # saving site source\n",
    "        soup = BeautifulSoup(html, \"lxml\")\n",
    "        page_count = get_page_count(soup)\n",
    "        print('Буква алфавита № ' + str(j + 1) + ': ')\n",
    "        dict = []\n",
    "        for i in range(page_count):\n",
    "            if i > 0:\n",
    "                driver.get('http://teenslang.su/?page=' + str(i) + '&content=%D0%'+ rus_letters_numbers[j] + '*') # load sites\n",
    "                html = driver.page_source # saving site source\n",
    "                soup = BeautifulSoup(html, \"lxml\")\n",
    "            print('Парсинг %d из %d' % (i + 1, page_count))\n",
    "            table = soup.find('div', class_='visible-xs visible-md visible-sm visible-lg col-lg-6')\n",
    "            words = table.find_all('div', class_='issueword1')\n",
    "\n",
    "            for word_row in words:\n",
    "                word_name = Text_from_html_object(str(word_row.find('span', class_='cap')))\n",
    "                word_type = Text_from_html_object(str(word_row.find('span', class_='sta')))\n",
    "                word_group = Text_from_html_object(str(word_row.find('span', class_='sph')))\n",
    "                word_def = Text_from_html_object(str(word_row.find('span', class_='mea')))\n",
    "                word_example = Text_from_html_object(str(word_row.find('span', class_='text')))\n",
    "                word_story = Text_from_html_arr(word_row.find_all('div', class_='category'))\n",
    "                word_hash = Text_from_html_object(str(word_row.find('span', class_='src')))\n",
    "                word_syn = Text_from_html_object(str(word_row.find('span', class_='syn')))\n",
    "                dict.append({\n",
    "                    'num': i,\n",
    "                    'name': brush(word_name),\n",
    "                    'definition': word_def,\n",
    "                    'type': \" \" if word_type == \"NonNone\" else word_type,\n",
    "                    'group': \" \" if word_group == \"NonNone\" else word_group,\n",
    "                    'examples': \" \" if word_example == \"NonNone\" else word_example,\n",
    "                    'origin': \" \" if word_story == \"NonNone\" else word_story,\n",
    "                    'hashtags': \" \" if word_hash == \"NonNone\" else word_hash,\n",
    "                    'synonyms': \" \" if word_syn == \"NonNone\" else word_syn \n",
    "                })\n",
    "        add_to_save(dict, file)\n",
    "    fulldict = pd.read_csv(file)\n",
    "    fulldict.drop_duplicates(keep='first')\n",
    "    print(\"!!!!!!!!!!!ВСЕ!!!!!!!!!!\")\n",
    "            \n",
    "        \n",
    "def get_rus_letters_numbers():\n",
    "    driver.get(\"http://teenslang.su/content/%D0%90\")\n",
    "    html = driver.page_source # saving site source\n",
    "    soup = BeautifulSoup(html, \"lxml\")\n",
    "    rus_letters_numbers = take_rus_letters_numbers(soup)\n",
    "    return rus_letters_numbers\n",
    "\n",
    "def brush(x):\n",
    "    return x.capitalize().strip()\n",
    "\n",
    "def print_dict_sorted_by_value(dictionary):\n",
    "    for (key, value) in sorted(dictionary.items(), key=lambda x: x[1], reverse=True):\n",
    "        print(key, \": \", value, sep='')\n",
    "        \n",
    "def load_webdriver():\n",
    "    global driver\n",
    "    try:\n",
    "        driver = webdriver.PhantomJS()\n",
    "    except:\n",
    "        webdriver_path = \"/home/kam/PhantomJS/phantomjs-2.1.1-linux-x86_64/bin/phantomjs\"\n",
    "        driver = webdriver.PhantomJS(webdriver_path)\n",
    "        \n",
    "def load_rus_letters_numbers():\n",
    "    global rus_letters_numbers\n",
    "    if os.path.isfile(rus_letters_numbers_path):\n",
    "        rus_letters_numbers = np.load(rus_letters_numbers_path).tolist()\n",
    "    else:\n",
    "        rus_letters_numbers = get_rus_letters_numbers()\n",
    "        np.save(rus_letters_numbers_path, rus_letters_numbers)\n",
    "        "
   ]
  },
  {
   "cell_type": "markdown",
   "metadata": {},
   "source": [
    "#### Load PhantomJS webdriver, (load from driver)/(download) numbers of Russian letters used in teenslang"
   ]
  },
  {
   "cell_type": "code",
   "execution_count": 18,
   "metadata": {
    "collapsed": true
   },
   "outputs": [],
   "source": [
    "load_webdriver()\n",
    "load_rus_letters_numbers()"
   ]
  },
  {
   "cell_type": "markdown",
   "metadata": {},
   "source": [
    "### test sample for letter \"Й\""
   ]
  },
  {
   "cell_type": "code",
   "execution_count": 19,
   "metadata": {},
   "outputs": [
    {
     "name": "stdout",
     "output_type": "stream",
     "text": [
      "Буква алфавита № 10: \n",
      "Парсинг 1 из 1\n",
      "!!!!!!!!!!!ВСЕ!!!!!!!!!!\n"
     ]
    },
    {
     "data": {
      "text/html": [
       "<div>\n",
       "<style>\n",
       "    .dataframe thead tr:only-child th {\n",
       "        text-align: right;\n",
       "    }\n",
       "\n",
       "    .dataframe thead th {\n",
       "        text-align: left;\n",
       "    }\n",
       "\n",
       "    .dataframe tbody tr th {\n",
       "        vertical-align: top;\n",
       "    }\n",
       "</style>\n",
       "<table border=\"1\" class=\"dataframe\">\n",
       "  <thead>\n",
       "    <tr style=\"text-align: right;\">\n",
       "      <th></th>\n",
       "      <th>name</th>\n",
       "      <th>definition</th>\n",
       "      <th>type</th>\n",
       "      <th>group</th>\n",
       "      <th>examples</th>\n",
       "      <th>origin</th>\n",
       "      <th>hashtags</th>\n",
       "      <th>synonyms</th>\n",
       "    </tr>\n",
       "  </thead>\n",
       "  <tbody>\n",
       "    <tr>\n",
       "      <th>0</th>\n",
       "      <td>Йа</td>\n",
       "      <td>я.</td>\n",
       "      <td>местоимение</td>\n",
       "      <td></td>\n",
       "      <td>Йа так устала!  • Когда йа была маленькой дево...</td>\n",
       "      <td>#Падонки</td>\n",
       "      <td></td>\n",
       "      <td></td>\n",
       "    </tr>\n",
       "    <tr>\n",
       "      <th>1</th>\n",
       "      <td>Йа креведко</td>\n",
       "      <td>я знаю олбанский язык, но не совсем понимаю, о...</td>\n",
       "      <td></td>\n",
       "      <td>(каменты)</td>\n",
       "      <td></td>\n",
       "      <td>#Падонки</td>\n",
       "      <td></td>\n",
       "      <td>я чайник, прикидываюсь шлангом, шлангую, йа кр...</td>\n",
       "    </tr>\n",
       "    <tr>\n",
       "      <th>2</th>\n",
       "      <td>Йааазь</td>\n",
       "      <td>язь, название рыбы.</td>\n",
       "      <td>-я, м.</td>\n",
       "      <td>(интернет)</td>\n",
       "      <td>Вот она! Вот она рыба моей мечты: здоровенный ...</td>\n",
       "      <td>#Интернет</td>\n",
       "      <td>Из  любительского видеоролика, который оказалс...</td>\n",
       "      <td>йаазь, йазь, язззь</td>\n",
       "    </tr>\n",
       "  </tbody>\n",
       "</table>\n",
       "</div>"
      ],
      "text/plain": [
       "          name                                         definition  \\\n",
       "0           Йа                                                 я.   \n",
       "1  Йа креведко  я знаю олбанский язык, но не совсем понимаю, о...   \n",
       "2       Йааазь                                язь, название рыбы.   \n",
       "\n",
       "          type       group                                           examples  \\\n",
       "0  местоимение              Йа так устала!  • Когда йа была маленькой дево...   \n",
       "1                (каменты)                                                      \n",
       "2      -я, м.   (интернет)  Вот она! Вот она рыба моей мечты: здоровенный ...   \n",
       "\n",
       "       origin                                           hashtags  \\\n",
       "0   #Падонки                                                       \n",
       "1   #Падонки                                                       \n",
       "2  #Интернет   Из  любительского видеоролика, который оказалс...   \n",
       "\n",
       "                                            synonyms  \n",
       "0                                                     \n",
       "1  я чайник, прикидываюсь шлангом, шлангую, йа кр...  \n",
       "2                                 йаазь, йазь, язззь  "
      ]
     },
     "execution_count": 19,
     "metadata": {},
     "output_type": "execute_result"
    }
   ],
   "source": [
    "get_words_from_Teenslang(from_i=9, to_i=9, file=test_dict_file)\n",
    "test_dict = pd.read_csv(test_dict_file)\n",
    "test_dict.head(3)"
   ]
  },
  {
   "cell_type": "markdown",
   "metadata": {},
   "source": [
    "### All words to DataFrame"
   ]
  },
  {
   "cell_type": "code",
   "execution_count": 41,
   "metadata": {
    "scrolled": true
   },
   "outputs": [
    {
     "data": {
      "text/html": [
       "<div>\n",
       "<style>\n",
       "    .dataframe thead tr:only-child th {\n",
       "        text-align: right;\n",
       "    }\n",
       "\n",
       "    .dataframe thead th {\n",
       "        text-align: left;\n",
       "    }\n",
       "\n",
       "    .dataframe tbody tr th {\n",
       "        vertical-align: top;\n",
       "    }\n",
       "</style>\n",
       "<table border=\"1\" class=\"dataframe\">\n",
       "  <thead>\n",
       "    <tr style=\"text-align: right;\">\n",
       "      <th></th>\n",
       "      <th>name</th>\n",
       "      <th>definition</th>\n",
       "      <th>type</th>\n",
       "      <th>group</th>\n",
       "      <th>examples</th>\n",
       "      <th>hashtags</th>\n",
       "      <th>origin</th>\n",
       "      <th>synonyms</th>\n",
       "      <th>id</th>\n",
       "    </tr>\n",
       "  </thead>\n",
       "  <tbody>\n",
       "    <tr>\n",
       "      <th>0</th>\n",
       "      <td>А сегодня я покакал</td>\n",
       "      <td>Предложение, показывающие безразличие к тому ч...</td>\n",
       "      <td>словосочетание</td>\n",
       "      <td>(Анонимы, тролли, хикки)</td>\n",
       "      <td>-Где можно обсудить проблемы кишечника?\\n-В /p...</td>\n",
       "      <td>#Социальныесети</td>\n",
       "      <td>(происхождение второго значения) раздел был до...</td>\n",
       "      <td>_</td>\n",
       "      <td>1.0</td>\n",
       "    </tr>\n",
       "    <tr>\n",
       "      <th>1</th>\n",
       "      <td>А то</td>\n",
       "      <td>да — выражения подтверждения.</td>\n",
       "      <td>союз и частица</td>\n",
       "      <td>NaN</td>\n",
       "      <td>— Ты знаешь такого чела...? — А то!!!</td>\n",
       "      <td>#Общие</td>\n",
       "      <td>NaN</td>\n",
       "      <td>да.</td>\n",
       "      <td>2.0</td>\n",
       "    </tr>\n",
       "    <tr>\n",
       "      <th>2</th>\n",
       "      <td>Абаля</td>\n",
       "      <td>вот это конфуз!.</td>\n",
       "      <td>NaN</td>\n",
       "      <td>NaN</td>\n",
       "      <td>NaN</td>\n",
       "      <td>#Общие</td>\n",
       "      <td>NaN</td>\n",
       "      <td>_</td>\n",
       "      <td>3.0</td>\n",
       "    </tr>\n",
       "  </tbody>\n",
       "</table>\n",
       "</div>"
      ],
      "text/plain": [
       "                  name                                         definition  \\\n",
       "0  А сегодня я покакал  Предложение, показывающие безразличие к тому ч...   \n",
       "1                 А то                      да — выражения подтверждения.   \n",
       "2                Абаля                                   вот это конфуз!.   \n",
       "\n",
       "              type                     group  \\\n",
       "0  словосочетание   (Анонимы, тролли, хикки)   \n",
       "1   союз и частица                       NaN   \n",
       "2              NaN                       NaN   \n",
       "\n",
       "                                            examples          hashtags  \\\n",
       "0  -Где можно обсудить проблемы кишечника?\\n-В /p...  #Социальныесети    \n",
       "1             — Ты знаешь такого чела...? — А то!!!            #Общие    \n",
       "2                                                NaN           #Общие    \n",
       "\n",
       "                                              origin synonyms   id  \n",
       "0  (происхождение второго значения) раздел был до...        _  1.0  \n",
       "1                                                NaN      да.  2.0  \n",
       "2                                                NaN        _  3.0  "
      ]
     },
     "execution_count": 41,
     "metadata": {},
     "output_type": "execute_result"
    }
   ],
   "source": [
    "teenslang_df = pd.read_csv(teenslang_appwords_csv)\n",
    "teenslang_df.head(3)"
   ]
  },
  {
   "cell_type": "code",
   "execution_count": 42,
   "metadata": {},
   "outputs": [
    {
     "data": {
      "text/plain": [
       "16784"
      ]
     },
     "execution_count": 42,
     "metadata": {},
     "output_type": "execute_result"
    }
   ],
   "source": [
    "len(teenslang_df)"
   ]
  },
  {
   "cell_type": "markdown",
   "metadata": {},
   "source": [
    "### Inserting ID column"
   ]
  },
  {
   "cell_type": "code",
   "execution_count": 44,
   "metadata": {
    "scrolled": true
   },
   "outputs": [
    {
     "data": {
      "text/html": [
       "<div>\n",
       "<style>\n",
       "    .dataframe thead tr:only-child th {\n",
       "        text-align: right;\n",
       "    }\n",
       "\n",
       "    .dataframe thead th {\n",
       "        text-align: left;\n",
       "    }\n",
       "\n",
       "    .dataframe tbody tr th {\n",
       "        vertical-align: top;\n",
       "    }\n",
       "</style>\n",
       "<table border=\"1\" class=\"dataframe\">\n",
       "  <thead>\n",
       "    <tr style=\"text-align: right;\">\n",
       "      <th></th>\n",
       "      <th>name</th>\n",
       "      <th>definition</th>\n",
       "      <th>type</th>\n",
       "      <th>group</th>\n",
       "      <th>examples</th>\n",
       "      <th>hashtags</th>\n",
       "      <th>origin</th>\n",
       "      <th>synonyms</th>\n",
       "      <th>id</th>\n",
       "    </tr>\n",
       "  </thead>\n",
       "  <tbody>\n",
       "    <tr>\n",
       "      <th>0</th>\n",
       "      <td>А сегодня я покакал</td>\n",
       "      <td>Предложение, показывающие безразличие к тому ч...</td>\n",
       "      <td>словосочетание</td>\n",
       "      <td>(Анонимы, тролли, хикки)</td>\n",
       "      <td>-Где можно обсудить проблемы кишечника?\\n-В /p...</td>\n",
       "      <td>#Социальныесети</td>\n",
       "      <td>(происхождение второго значения) раздел был до...</td>\n",
       "      <td>_</td>\n",
       "      <td>1</td>\n",
       "    </tr>\n",
       "  </tbody>\n",
       "</table>\n",
       "</div>"
      ],
      "text/plain": [
       "                  name                                         definition  \\\n",
       "0  А сегодня я покакал  Предложение, показывающие безразличие к тому ч...   \n",
       "\n",
       "              type                     group  \\\n",
       "0  словосочетание   (Анонимы, тролли, хикки)   \n",
       "\n",
       "                                            examples          hashtags  \\\n",
       "0  -Где можно обсудить проблемы кишечника?\\n-В /p...  #Социальныесети    \n",
       "\n",
       "                                              origin synonyms  id  \n",
       "0  (происхождение второго значения) раздел был до...        _   1  "
      ]
     },
     "execution_count": 44,
     "metadata": {},
     "output_type": "execute_result"
    }
   ],
   "source": [
    "teenslang_df[\"id\"] = teenslang_df.index + 1\n",
    "teenslang_df.head(1)"
   ]
  },
  {
   "cell_type": "markdown",
   "metadata": {},
   "source": [
    "### Save to CSV"
   ]
  },
  {
   "cell_type": "code",
   "execution_count": 45,
   "metadata": {
    "collapsed": true
   },
   "outputs": [],
   "source": [
    "teenslang_df.to_csv(teenslang_appwords_csv, index=False)"
   ]
  },
  {
   "cell_type": "markdown",
   "metadata": {},
   "source": [
    "### Find by name"
   ]
  },
  {
   "cell_type": "code",
   "execution_count": 70,
   "metadata": {},
   "outputs": [
    {
     "data": {
      "text/html": [
       "<div>\n",
       "<style>\n",
       "    .dataframe thead tr:only-child th {\n",
       "        text-align: right;\n",
       "    }\n",
       "\n",
       "    .dataframe thead th {\n",
       "        text-align: left;\n",
       "    }\n",
       "\n",
       "    .dataframe tbody tr th {\n",
       "        vertical-align: top;\n",
       "    }\n",
       "</style>\n",
       "<table border=\"1\" class=\"dataframe\">\n",
       "  <thead>\n",
       "    <tr style=\"text-align: right;\">\n",
       "      <th></th>\n",
       "      <th>name</th>\n",
       "      <th>definition</th>\n",
       "      <th>type</th>\n",
       "      <th>group</th>\n",
       "      <th>examples</th>\n",
       "      <th>hashtags</th>\n",
       "      <th>origin</th>\n",
       "      <th>synonyms</th>\n",
       "      <th>id</th>\n",
       "    </tr>\n",
       "  </thead>\n",
       "  <tbody>\n",
       "    <tr>\n",
       "      <th>16937</th>\n",
       "      <td>Шарить</td>\n",
       "      <td>хорошо разбираться в чем-либо, понимать.</td>\n",
       "      <td>несов. перех.</td>\n",
       "      <td>NaN</td>\n",
       "      <td>Он здорово шарит в компах!  • Автор не шарит в...</td>\n",
       "      <td>#Общие</td>\n",
       "      <td>NaN</td>\n",
       "      <td>рубить.</td>\n",
       "      <td>16938</td>\n",
       "    </tr>\n",
       "    <tr>\n",
       "      <th>16938</th>\n",
       "      <td>Шарить</td>\n",
       "      <td>Разбираться в мемах, в моде, в том, что популя...</td>\n",
       "      <td>н.ф. глагол</td>\n",
       "      <td>(Интернет)</td>\n",
       "      <td>Я шарю.</td>\n",
       "      <td>#Социальныесети</td>\n",
       "      <td>NaN</td>\n",
       "      <td>_</td>\n",
       "      <td>16939</td>\n",
       "    </tr>\n",
       "  </tbody>\n",
       "</table>\n",
       "</div>"
      ],
      "text/plain": [
       "         name                                         definition  \\\n",
       "16937  Шарить           хорошо разбираться в чем-либо, понимать.   \n",
       "16938  Шарить  Разбираться в мемах, в моде, в том, что популя...   \n",
       "\n",
       "                type       group  \\\n",
       "16937  несов. перех.         NaN   \n",
       "16938   н.ф. глагол   (Интернет)   \n",
       "\n",
       "                                                examples          hashtags  \\\n",
       "16937  Он здорово шарит в компах!  • Автор не шарит в...           #Общие    \n",
       "16938                                           Я шарю.   #Социальныесети    \n",
       "\n",
       "      origin synonyms     id  \n",
       "16937    NaN  рубить.  16938  \n",
       "16938    NaN        _  16939  "
      ]
     },
     "execution_count": 70,
     "metadata": {},
     "output_type": "execute_result"
    }
   ],
   "source": [
    "teenslang_df[teenslang_df[\"name\"] == \"Шарить\"]"
   ]
  },
  {
   "cell_type": "markdown",
   "metadata": {},
   "source": [
    "### Drop column ID by name"
   ]
  },
  {
   "cell_type": "code",
   "execution_count": 43,
   "metadata": {},
   "outputs": [
    {
     "data": {
      "text/html": [
       "<div>\n",
       "<style>\n",
       "    .dataframe thead tr:only-child th {\n",
       "        text-align: right;\n",
       "    }\n",
       "\n",
       "    .dataframe thead th {\n",
       "        text-align: left;\n",
       "    }\n",
       "\n",
       "    .dataframe tbody tr th {\n",
       "        vertical-align: top;\n",
       "    }\n",
       "</style>\n",
       "<table border=\"1\" class=\"dataframe\">\n",
       "  <thead>\n",
       "    <tr style=\"text-align: right;\">\n",
       "      <th></th>\n",
       "      <th>name</th>\n",
       "      <th>definition</th>\n",
       "      <th>type</th>\n",
       "      <th>group</th>\n",
       "      <th>examples</th>\n",
       "      <th>hashtags</th>\n",
       "      <th>origin</th>\n",
       "      <th>synonyms</th>\n",
       "    </tr>\n",
       "  </thead>\n",
       "  <tbody>\n",
       "    <tr>\n",
       "      <th>0</th>\n",
       "      <td>А сегодня я покакал</td>\n",
       "      <td>Предложение, показывающие безразличие к тому ч...</td>\n",
       "      <td>словосочетание</td>\n",
       "      <td>(Анонимы, тролли, хикки)</td>\n",
       "      <td>-Где можно обсудить проблемы кишечника?\\n-В /p...</td>\n",
       "      <td>#Социальныесети</td>\n",
       "      <td>(происхождение второго значения) раздел был до...</td>\n",
       "      <td>_</td>\n",
       "    </tr>\n",
       "  </tbody>\n",
       "</table>\n",
       "</div>"
      ],
      "text/plain": [
       "                  name                                         definition  \\\n",
       "0  А сегодня я покакал  Предложение, показывающие безразличие к тому ч...   \n",
       "\n",
       "              type                     group  \\\n",
       "0  словосочетание   (Анонимы, тролли, хикки)   \n",
       "\n",
       "                                            examples          hashtags  \\\n",
       "0  -Где можно обсудить проблемы кишечника?\\n-В /p...  #Социальныесети    \n",
       "\n",
       "                                              origin synonyms  \n",
       "0  (происхождение второго значения) раздел был до...        _  "
      ]
     },
     "execution_count": 43,
     "metadata": {},
     "output_type": "execute_result"
    }
   ],
   "source": [
    "teenslang_df = teenslang_df.drop(\"id\", 1)\n",
    "teenslang_df.head(1)"
   ]
  },
  {
   "cell_type": "markdown",
   "metadata": {},
   "source": [
    "### Drop duplicates"
   ]
  },
  {
   "cell_type": "code",
   "execution_count": 88,
   "metadata": {},
   "outputs": [
    {
     "data": {
      "text/plain": [
       "16751"
      ]
     },
     "execution_count": 88,
     "metadata": {},
     "output_type": "execute_result"
    }
   ],
   "source": [
    "teenslang_df.drop_duplicates(inplace=True, keep='first')\n",
    "len(teenslang_df)"
   ]
  },
  {
   "cell_type": "markdown",
   "metadata": {},
   "source": [
    "### Repeating with Vsekidki_dict"
   ]
  },
  {
   "cell_type": "code",
   "execution_count": 94,
   "metadata": {},
   "outputs": [
    {
     "data": {
      "text/plain": [
       "1307"
      ]
     },
     "execution_count": 94,
     "metadata": {},
     "output_type": "execute_result"
    }
   ],
   "source": [
    "vsekidki_df = pd.read_csv(vsekidki_appwords_csv)\n",
    "vsekidki_df = vsekidki_df.drop(\"id\", 1)\n",
    "vsekidki_df.drop_duplicates(inplace=True, keep='first')\n",
    "vsekidki_df[\"id\"] = vsekidki_df.index + 1\n",
    "vsekidki_df.to_csv(vsekidki_appwords_csv, index=False)\n",
    "len(vsekidki_df)"
   ]
  },
  {
   "cell_type": "code",
   "execution_count": null,
   "metadata": {
    "collapsed": true
   },
   "outputs": [],
   "source": []
  }
 ],
 "metadata": {
  "kernelspec": {
   "display_name": "Python 3",
   "language": "python",
   "name": "python3"
  },
  "language_info": {
   "codemirror_mode": {
    "name": "ipython",
    "version": 3
   },
   "file_extension": ".py",
   "mimetype": "text/x-python",
   "name": "python",
   "nbconvert_exporter": "python",
   "pygments_lexer": "ipython3",
   "version": "3.6.1"
  }
 },
 "nbformat": 4,
 "nbformat_minor": 2
}
