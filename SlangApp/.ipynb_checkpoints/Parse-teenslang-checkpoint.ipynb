{
 "cells": [
  {
   "cell_type": "code",
   "execution_count": null,
   "metadata": {
    "collapsed": true
   },
   "outputs": [],
   "source": [
    "# coding=utf-8\n",
    "import numpy\n",
    "import os\n",
    "import pandas as pd\n",
    "import csv\n",
    "import sqlite3 as lite\n",
    "from bs4 import BeautifulSoup\n",
    "from selenium import webdriver\n",
    "from shutil import copyfile\n",
    "\n",
    "teenslang_appwords_csv = \"teenslang_appwords.csv\"\n",
    "test_dict_file = \"test_dict.csv\"\n",
    "rus_letters_numbers_path = \"rus_letters_numbers.npy\""
   ]
  },
  {
   "cell_type": "markdown",
   "metadata": {},
   "source": [
    "### Основные функции "
   ]
  },
  {
   "cell_type": "code",
   "execution_count": 4,
   "metadata": {
    "collapsed": true
   },
   "outputs": [],
   "source": [
    "def Text_from_html_object(text):\n",
    "    start = text.find(\"<\")\n",
    "    finish = text.find(\">\")\n",
    "    text = text[:start] + text[finish + 1:]\n",
    "    check_for_tag = text.find('<', start)\n",
    "    while check_for_tag != -1:\n",
    "            end_of_tag = text.find('>', check_for_tag)\n",
    "            text = text[:check_for_tag] + text[end_of_tag + 1:]\n",
    "            check_for_tag = text.find('<', check_for_tag)\n",
    "    return text\n",
    "\n",
    "def Text_from_html_arr(arr):\n",
    "    answer_text = ''\n",
    "    for object in arr:\n",
    "        text = str(object)\n",
    "        check_for_tag = text.find('<')\n",
    "        while check_for_tag != -1:\n",
    "            end_of_tag = text.find('>', check_for_tag)\n",
    "            text = text[:check_for_tag] + text[end_of_tag + 1:]\n",
    "            check_for_tag = text.find('<', check_for_tag)\n",
    "        answer_text += text\n",
    "    return answer_text\n",
    "\n",
    "def get_page_count(soup):\n",
    "    list_of_pages = soup.find_all('a', class_='page_number')\n",
    "    try:\n",
    "        last_page = list_of_pages[-2]\n",
    "    except IndexError:\n",
    "        return 1\n",
    "    last_number = Text_from_html_object(str(last_page))\n",
    "    return int(last_number)\n",
    "\n",
    "def take_rus_letters_numbers(soup):\n",
    "    links = []\n",
    "    list_of_links = soup.find_all('a', class_='alph_menu')\n",
    "    for link in list_of_links:\n",
    "        pos = int(str(link).find(\"%D0%\")) + 4\n",
    "        name = str(str(link)[pos:pos+2])\n",
    "        if name != \"81\":\n",
    "            links.append(name)\n",
    "    return links\n",
    "\n",
    "def make_save(path):\n",
    "    with open(path, 'w') as csvfile:\n",
    "        writer = csv.writer(csvfile)\n",
    "        writer.writerow(('name', 'definition', 'type', 'group', 'examples', 'origin', 'hashtags', 'synonyms'))\n",
    "\n",
    "def add_to_save(dict, path):\n",
    "    with open(path, 'a') as csvfile:\n",
    "        writer = csv.writer(csvfile)\n",
    "        for word in dict:\n",
    "            type = word['type']\n",
    "            group = word['group']\n",
    "            examples = word['examples']\n",
    "            origin = word['origin']\n",
    "            hashtags = word['hashtags']\n",
    "            synonyms = word['synonyms']\n",
    "            writer.writerow((word['name'], word['definition'], word['type'], word['group'], \n",
    "                             word['examples'], word['origin'], word['hashtags'], word['synonyms']))\n",
    "            \n",
    "\n",
    "    \n",
    "# and then rename mycsv.out to mycsv.csv if you wish.\n",
    "\n",
    "def get_words_from_Teenslang(from_i, to_i, file):\n",
    "    make_save(file)\n",
    "    for j in range(from_i, to_i + 1):\n",
    "        driver.get('http://teenslang.su/content/%D0%'+ rus_letters_numbers[j]) # download site to the Selenium\n",
    "        html = driver.page_source # saving site source\n",
    "        soup = BeautifulSoup(html, \"lxml\")\n",
    "        page_count = get_page_count(soup)\n",
    "        print('Буква алфавита № ' + str(j + 1) + ': ')\n",
    "        dict = []\n",
    "        for i in range(page_count):\n",
    "            if i > 0:\n",
    "                driver.get('http://teenslang.su/?page=' + str(i) + '&content=%D0%'+ rus_letters_numbers[j] + '*') # load sites\n",
    "                html = driver.page_source # saving site source\n",
    "                soup = BeautifulSoup(html, \"lxml\")\n",
    "            print('Парсинг %d из %d' % (i + 1, page_count))\n",
    "            table = soup.find('div', class_='visible-xs visible-md visible-sm visible-lg col-lg-6')\n",
    "            words = table.find_all('div', class_='issueword1')\n",
    "\n",
    "            for word_row in words:\n",
    "                word_name = Text_from_html_object(str(word_row.find('span', class_='cap')))\n",
    "                word_type = Text_from_html_object(str(word_row.find('span', class_='sta')))\n",
    "                word_group = Text_from_html_object(str(word_row.find('span', class_='sph')))\n",
    "                word_def = Text_from_html_object(str(word_row.find('span', class_='mea')))\n",
    "                word_example = Text_from_html_object(str(word_row.find('span', class_='text')))\n",
    "                word_story = Text_from_html_arr(word_row.find_all('div', class_='category'))\n",
    "                word_hash = Text_from_html_object(str(word_row.find('span', class_='src')))\n",
    "                word_syn = Text_from_html_object(str(word_row.find('span', class_='syn')))\n",
    "                dict.append({\n",
    "                    'num': i,\n",
    "                    'name': brush(word_name),\n",
    "                    'definition': word_def,\n",
    "                    'type': \" \" if word_type == \"NonNone\" else word_type,\n",
    "                    'group': \" \" if word_group == \"NonNone\" else word_group,\n",
    "                    'examples': \" \" if word_example == \"NonNone\" else word_example,\n",
    "                    'origin': \" \" if word_story == \"NonNone\" else word_story,\n",
    "                    'hashtags': \" \" if word_hash == \"NonNone\" else word_hash,\n",
    "                    'synonyms': \" \" if word_syn == \"NonNone\" else word_syn \n",
    "                })\n",
    "        add_to_save(dict, file)\n",
    "    fulldict = pd.read_csv(file)\n",
    "    fulldict.drop_duplicates(keep='first')\n",
    "    print(\"!!!!!!!!!!!ВСЕ!!!!!!!!!!\")\n",
    "            \n",
    "        \n",
    "def get_rus_letters_numbers():\n",
    "    driver.get(\"http://teenslang.su/content/%D0%90\")\n",
    "    html = driver.page_source # saving site source\n",
    "    soup = BeautifulSoup(html, \"lxml\")\n",
    "    rus_letters_numbers = take_rus_letters_numbers(soup)\n",
    "    return rus_letters_numbers\n",
    "\n",
    "def brush(x):\n",
    "    return x.capitalize().strip()\n",
    "\n",
    "def print_dict_sorted_by_value(dictionary):\n",
    "    for (key, value) in sorted(dictionary.items(), key=lambda x: x[1], reverse=True):\n",
    "        print(key, \": \", value, sep='')\n",
    "        \n",
    "driver = webdriver.PhantomJS()\n",
    "global driver"
   ]
  },
  {
   "cell_type": "markdown",
   "metadata": {},
   "source": [
    "#### (загрузить с диска)/(скачать) номера букв teenslang алфавита"
   ]
  },
  {
   "cell_type": "code",
   "execution_count": null,
   "metadata": {
    "collapsed": true
   },
   "outputs": [],
   "source": [
    "if os.path.isfile(rus_letters_numbers_path):\n",
    "    rus_letters_numbers = np.load(rus_letters_numbers_path).tolist()\n",
    "else:\n",
    "    rus_letters_numbers = get_rus_letters_numbers()\n",
    "    np.save(rus_letters_numbers_path, rus_letters_numbers)"
   ]
  },
  {
   "cell_type": "markdown",
   "metadata": {},
   "source": [
    "### Тестовая выборка на букву \"Й\""
   ]
  },
  {
   "cell_type": "code",
   "execution_count": 37,
   "metadata": {},
   "outputs": [
    {
     "name": "stdout",
     "output_type": "stream",
     "text": [
      "Буква алфавита № 10: \n",
      "Парсинг 1 из 1\n",
      "!!!!!!!!!!!ВСЕ!!!!!!!!!!\n"
     ]
    }
   ],
   "source": [
    "get_words_from_Teenslang(from_i=9, to_i=9, file=test_dict_file)\n",
    "test_dict = pd.read_csv(test_dict_file)\n",
    "test_dict.head(3)"
   ]
  },
  {
   "cell_type": "markdown",
   "metadata": {},
   "source": [
    "### Вся выборка"
   ]
  },
  {
   "cell_type": "code",
   "execution_count": 2,
   "metadata": {},
   "outputs": [
    {
     "data": {
      "text/html": [
       "<div>\n",
       "<style>\n",
       "    .dataframe thead tr:only-child th {\n",
       "        text-align: right;\n",
       "    }\n",
       "\n",
       "    .dataframe thead th {\n",
       "        text-align: left;\n",
       "    }\n",
       "\n",
       "    .dataframe tbody tr th {\n",
       "        vertical-align: top;\n",
       "    }\n",
       "</style>\n",
       "<table border=\"1\" class=\"dataframe\">\n",
       "  <thead>\n",
       "    <tr style=\"text-align: right;\">\n",
       "      <th></th>\n",
       "      <th>name</th>\n",
       "      <th>definition</th>\n",
       "      <th>type</th>\n",
       "      <th>group</th>\n",
       "      <th>examples</th>\n",
       "      <th>hashtags</th>\n",
       "      <th>origin</th>\n",
       "      <th>synonyms</th>\n",
       "    </tr>\n",
       "  </thead>\n",
       "  <tbody>\n",
       "    <tr>\n",
       "      <th>0</th>\n",
       "      <td>А сегодня я покакал</td>\n",
       "      <td>Предложение, показывающие безразличие к тому ч...</td>\n",
       "      <td>словосочетание</td>\n",
       "      <td>(Анонимы, тролли, хикки)</td>\n",
       "      <td>-Где можно обсудить проблемы кишечника?\\n-В /p...</td>\n",
       "      <td>#Социальныесети</td>\n",
       "      <td>(происхождение второго значения) раздел был до...</td>\n",
       "      <td>_</td>\n",
       "    </tr>\n",
       "    <tr>\n",
       "      <th>1</th>\n",
       "      <td>А то</td>\n",
       "      <td>да — выражения подтверждения.</td>\n",
       "      <td>союз и частица</td>\n",
       "      <td>NaN</td>\n",
       "      <td>— Ты знаешь такого чела...? — А то!!!</td>\n",
       "      <td>#Общие</td>\n",
       "      <td>NaN</td>\n",
       "      <td>да.</td>\n",
       "    </tr>\n",
       "    <tr>\n",
       "      <th>2</th>\n",
       "      <td>Абаля</td>\n",
       "      <td>вот это конфуз!.</td>\n",
       "      <td>NaN</td>\n",
       "      <td>NaN</td>\n",
       "      <td>NaN</td>\n",
       "      <td>#Общие</td>\n",
       "      <td>NaN</td>\n",
       "      <td>_</td>\n",
       "    </tr>\n",
       "  </tbody>\n",
       "</table>\n",
       "</div>"
      ],
      "text/plain": [
       "                  name                                         definition  \\\n",
       "0  А сегодня я покакал  Предложение, показывающие безразличие к тому ч...   \n",
       "1                 А то                      да — выражения подтверждения.   \n",
       "2                Абаля                                   вот это конфуз!.   \n",
       "\n",
       "              type                     group  \\\n",
       "0  словосочетание   (Анонимы, тролли, хикки)   \n",
       "1   союз и частица                       NaN   \n",
       "2              NaN                       NaN   \n",
       "\n",
       "                                            examples          hashtags  \\\n",
       "0  -Где можно обсудить проблемы кишечника?\\n-В /p...  #Социальныесети    \n",
       "1             — Ты знаешь такого чела...? — А то!!!            #Общие    \n",
       "2                                                NaN           #Общие    \n",
       "\n",
       "                                              origin synonyms  \n",
       "0  (происхождение второго значения) раздел был до...        _  \n",
       "1                                                NaN      да.  \n",
       "2                                                NaN        _  "
      ]
     },
     "execution_count": 2,
     "metadata": {},
     "output_type": "execute_result"
    }
   ],
   "source": [
    "true_dict = pd.read_csv(teenslang_appwords_csv)\n",
    "true_dict.head(3)"
   ]
  },
  {
   "cell_type": "code",
   "execution_count": null,
   "metadata": {
    "collapsed": true
   },
   "outputs": [],
   "source": []
  }
 ],
 "metadata": {
  "kernelspec": {
   "display_name": "Python 3",
   "language": "python",
   "name": "python3"
  },
  "language_info": {
   "codemirror_mode": {
    "name": "ipython",
    "version": 3
   },
   "file_extension": ".py",
   "mimetype": "text/x-python",
   "name": "python",
   "nbconvert_exporter": "python",
   "pygments_lexer": "ipython3",
   "version": "3.6.1"
  }
 },
 "nbformat": 4,
 "nbformat_minor": 2
}
