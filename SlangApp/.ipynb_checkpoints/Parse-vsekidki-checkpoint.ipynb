{
 "cells": [
  {
   "cell_type": "code",
   "execution_count": 70,
   "metadata": {
    "collapsed": true
   },
   "outputs": [],
   "source": [
    "# coding=utf-8\n",
    "import sys\n",
    "import numpy as np\n",
    "import requests\n",
    "import os\n",
    "import pandas as pd\n",
    "import csv\n",
    "import sqlite3 as lite\n",
    "from bs4 import BeautifulSoup\n",
    "from selenium import webdriver\n",
    "from shutil import copyfile\n",
    "from ast import literal_eval\n",
    "\n",
    "# Константы\n",
    "all_words_links_path = 'all_words_links.npy'\n",
    "vsekidki_fullwords_csv = 'vsekidki_fullwords.csv'\n",
    "vsekidki_appwords_csv = \"vsekidki_appwords.csv\"\n",
    "vsekidki_words_page = 'vsekidki_words_npy/vsekidki_words_page'\n",
    "length = 45\n",
    "global length"
   ]
  },
  {
   "cell_type": "markdown",
   "metadata": {},
   "source": [
    "## Сделать all_words_links = [ссылки на все слова] (загрузить с диска)"
   ]
  },
  {
   "cell_type": "code",
   "execution_count": 26,
   "metadata": {
    "collapsed": true
   },
   "outputs": [],
   "source": [
    "if os.path.isfile(all_words_links_path):\n",
    "    all_words_links = np.load(all_words_links_path).tolist()\n",
    "else:\n",
    "    vsekidki_url = \"http://vsekidki.ru/word/page/\"\n",
    "    all_words_links = []\n",
    "    for i in range(1, 45):\n",
    "        r = requests.get(vsekidki_url + str(i) + '/')\n",
    "        data = r.text\n",
    "        soup = BeautifulSoup(data, \"lxml\")\n",
    "        table_of_words = soup.find_all('a', class_='catalogue-heading-link')\n",
    "        for link in table_of_words:\n",
    "            all_words_links.append(link['href'])\n",
    "    len(all_words_links)\n",
    "    np.save(all_words_links_path, all_words_links)"
   ]
  },
  {
   "cell_type": "markdown",
   "metadata": {},
   "source": [
    "## Основные функции"
   ]
  },
  {
   "cell_type": "code",
   "execution_count": 132,
   "metadata": {
    "collapsed": true
   },
   "outputs": [],
   "source": [
    "def Text_from_vsekidki_word(text):\n",
    "    start = text.find(\"<\")\n",
    "    finish = text.find(\">\")\n",
    "    text = text[:start] + text[finish + 1:]\n",
    "    print(\"****11111****\", text)\n",
    "    check_for_tag = text.find('<', start)\n",
    "    while check_for_tag != -1:\n",
    "            end_of_tag = text.find('>', check_for_tag)\n",
    "            text = text[:check_for_tag] + text[end_of_tag + 1:]\n",
    "            check_for_tag = text.find('<', check_for_tag)\n",
    "    text = text[:int(len(text)/2)]\n",
    "    return text\n",
    "\n",
    "def print_word(word):\n",
    "    printing = word['name'] + \"\\n    ЗНАЧЕНИЕ: \" + word['definition'].strip() + \"\\n    ПРОИСХОЖДЕНИЕ: \" + word['origin'].strip() + \"\\n\\n\" \n",
    "    print(printing)\n",
    "    for i in range(len(word['fulltext'])):\n",
    "        print(i, word['fulltext'][i])\n",
    "        \n",
    "def find_quote(soup):\n",
    "    quote = \"\"\n",
    "    try:\n",
    "        quote = soup.find('div', class_='quote').text\n",
    "        quote = quote.replace(\"\\'\\'\", \"\\\"\").replace(\",,\", \"\\\"\")\n",
    "    except Exception as msg:\n",
    "        quote = ''\n",
    "    return quote\n",
    "\n",
    "def make_origin(quote):\n",
    "    origin = \"\"\n",
    "    try:\n",
    "        origin = article_body.contents[4].text\n",
    "    except:\n",
    "        try:\n",
    "            origin = article_body.contents[4]\n",
    "        except:\n",
    "            origin = ''\n",
    "    return (origin + quote).encode('iso-8859-1').decode('utf-8').strip()\n",
    "\n",
    "def get_fulltext_from_article_body(article_body):\n",
    "    fulltext = []\n",
    "    for item in article_body.contents[2:]:\n",
    "        utf_str = \"\"\n",
    "        try:\n",
    "            utf_str = item.text.strip().encode('iso-8859-1').decode('utf-8')\n",
    "        except:\n",
    "            try:\n",
    "                utf_str = item.strip().encode('iso-8859-1').decode('utf-8')\n",
    "            except:\n",
    "                try:\n",
    "                    utf_str = item.strip()\n",
    "                except:\n",
    "                    utf_str = \"\"\n",
    "        if utf_str != \"\":\n",
    "            fulltext.append(utf_str)\n",
    "    return fulltext\n",
    "\n",
    "def find_name(soup):\n",
    "    name = \"\"\n",
    "    try:\n",
    "        name = soup.find('h1', class_='new-title').text.encode('iso-8859-1').decode('utf-8').strip()\n",
    "    except:\n",
    "        name = soup.find('h1', class_='new-title').text\n",
    "    return name\n",
    "\n",
    "def make_appwords_file(path):\n",
    "    with open(path, 'w') as csvfile:\n",
    "        writer = csv.writer(csvfile)\n",
    "        writer.writerow(('name','definition','type','group','examples','origin','hashtags','synonyms'))\n",
    "        \n",
    "nthng = \"_\"        \n",
    "        \n",
    "def add_appwords_to_file(dict, path):\n",
    "    with open(path, 'a') as csvfile:\n",
    "        writer = csv.writer(csvfile)\n",
    "        for word in dict:\n",
    "            writer.writerow((word['name'],word['definition'],\"\",\"\",\"\",word['origin'],\"\",nthng))\n",
    "  \n",
    "def make_fullwords_file(path):\n",
    "    with open(path, 'w') as csvfile:\n",
    "        writer = csv.writer(csvfile)\n",
    "        writer.writerow(('name','fulltext'))\n",
    "\n",
    "\n",
    "def add_fullwords_to_file(dict, path):\n",
    "    with open(path, 'a') as csvfile:\n",
    "        writer = csv.writer(csvfile)\n",
    "        for word in dict:\n",
    "            writer.writerow((word['name'], word['fulltext']))"
   ]
  },
  {
   "cell_type": "markdown",
   "metadata": {},
   "source": [
    "## Распарсить pages from 1 to length, поместить их в vsekidki_words_page(i).npy"
   ]
  },
  {
   "cell_type": "code",
   "execution_count": 28,
   "metadata": {},
   "outputs": [
    {
     "name": "stdout",
     "output_type": "stream",
     "text": [
      "*********\n",
      " ГОТОВО\n",
      "*********\n"
     ]
    }
   ],
   "source": [
    "for i in range(1, length):\n",
    "    # for rewrite all files delete \"not\"\n",
    "    if not os.path.isfile(vsekidki_words_page + str(i) + '.npy'):\n",
    "        words = []\n",
    "        print(\" PAGE \", i)\n",
    "        for word_link in all_words_links[(i - 1)*30: i*30 + 1]:\n",
    "            r = requests.get(word_link)\n",
    "            soup = BeautifulSoup(r.text, \"lxml\")\n",
    "            article_body = soup.find('div', itemprop='articleBody')\n",
    "            name = find_name(soup)\n",
    "            definition = article_body.contents[2].encode('iso-8859-1').decode('utf-8').strip()\n",
    "            quote = find_quote(soup)\n",
    "            origin = make_origin(quote=quote)\n",
    "            fulltext = get_fulltext_from_article_body(article_body)\n",
    "            word = {\"name\": name,\n",
    "                    \"origin\": origin,\n",
    "                    \"definition\": definition,\n",
    "                    \"fulltext\": fulltext}\n",
    "            words.append(word)\n",
    "        dict_path = vsekidki_words_page + str(i) + '.npy'\n",
    "        np.save(dict_path, words)\n",
    "print(\"*********\\n ГОТОВО\\n*********\")\n"
   ]
  },
  {
   "cell_type": "markdown",
   "metadata": {},
   "source": [
    "## сделать all_words - массив всех слов"
   ]
  },
  {
   "cell_type": "code",
   "execution_count": 107,
   "metadata": {},
   "outputs": [
    {
     "name": "stdout",
     "output_type": "stream",
     "text": [
      "Слов: 1350\n"
     ]
    }
   ],
   "source": [
    "all_words = []\n",
    "for i in range(1, length):\n",
    "    read_dictionary = np.load(vsekidki_words_page + str(i) + '.npy').tolist()\n",
    "    all_words += read_dictionary   \n",
    "print(\"Слов:\", len(all_words))"
   ]
  },
  {
   "cell_type": "markdown",
   "metadata": {},
   "source": [
    "## Сохранить all_words в vsekidki_dict.csv"
   ]
  },
  {
   "cell_type": "code",
   "execution_count": 129,
   "metadata": {
    "collapsed": true
   },
   "outputs": [],
   "source": [
    "make_fullwords_file(vsekidki_fullwords_csv)\n",
    "add_fullwords_to_file(all_words, vsekidki_fullwords_csv)\n",
    "\n",
    "make_appwords_file(vsekidki_appwords_csv)\n",
    "add_appwords_to_file(all_words, vsekidki_appwords_csv)\n",
    "\n",
    "fullwords_df = pd.read_csv(vsekidki_fullwords_csv)\n",
    "appwords_df = pd.read_csv(vsekidki_appwords_csv)"
   ]
  },
  {
   "cell_type": "code",
   "execution_count": 130,
   "metadata": {},
   "outputs": [
    {
     "data": {
      "text/html": [
       "<div>\n",
       "<style>\n",
       "    .dataframe thead tr:only-child th {\n",
       "        text-align: right;\n",
       "    }\n",
       "\n",
       "    .dataframe thead th {\n",
       "        text-align: left;\n",
       "    }\n",
       "\n",
       "    .dataframe tbody tr th {\n",
       "        vertical-align: top;\n",
       "    }\n",
       "</style>\n",
       "<table border=\"1\" class=\"dataframe\">\n",
       "  <thead>\n",
       "    <tr style=\"text-align: right;\">\n",
       "      <th></th>\n",
       "      <th>name</th>\n",
       "      <th>definition</th>\n",
       "      <th>type</th>\n",
       "      <th>group</th>\n",
       "      <th>examples</th>\n",
       "      <th>origin</th>\n",
       "      <th>hashtags</th>\n",
       "      <th>synonyms</th>\n",
       "    </tr>\n",
       "  </thead>\n",
       "  <tbody>\n",
       "    <tr>\n",
       "      <th>0</th>\n",
       "      <td>АУЕ</td>\n",
       "      <td>А.У.Е расшифровка: Жизнь Ворам Сметь мусорам. ...</td>\n",
       "      <td>NaN</td>\n",
       "      <td>NaN</td>\n",
       "      <td>NaN</td>\n",
       "      <td>Воряги так говорят, переводится как АРЕСТАНСКИ...</td>\n",
       "      <td>NaN</td>\n",
       "      <td>_</td>\n",
       "    </tr>\n",
       "    <tr>\n",
       "      <th>1</th>\n",
       "      <td>Патимейкер</td>\n",
       "      <td>Новая песня с незамысловатым текстом. Автор - ...</td>\n",
       "      <td>NaN</td>\n",
       "      <td>NaN</td>\n",
       "      <td>NaN</td>\n",
       "      <td>Патимейкеры это те, кто организовывают тусу (д...</td>\n",
       "      <td>NaN</td>\n",
       "      <td>_</td>\n",
       "    </tr>\n",
       "    <tr>\n",
       "      <th>2</th>\n",
       "      <td>Аксемора</td>\n",
       "      <td>Аксиомора ошибочное произнесение слова \"оксюмо...</td>\n",
       "      <td>NaN</td>\n",
       "      <td>NaN</td>\n",
       "      <td>NaN</td>\n",
       "      <td>Компания \"Мегафон\" переозвучила свою рекламу с...</td>\n",
       "      <td>NaN</td>\n",
       "      <td>_</td>\n",
       "    </tr>\n",
       "  </tbody>\n",
       "</table>\n",
       "</div>"
      ],
      "text/plain": [
       "         name                                         definition  type  group  \\\n",
       "0         АУЕ  А.У.Е расшифровка: Жизнь Ворам Сметь мусорам. ...   NaN    NaN   \n",
       "1  Патимейкер  Новая песня с незамысловатым текстом. Автор - ...   NaN    NaN   \n",
       "2    Аксемора  Аксиомора ошибочное произнесение слова \"оксюмо...   NaN    NaN   \n",
       "\n",
       "   examples                                             origin  hashtags  \\\n",
       "0       NaN  Воряги так говорят, переводится как АРЕСТАНСКИ...       NaN   \n",
       "1       NaN  Патимейкеры это те, кто организовывают тусу (д...       NaN   \n",
       "2       NaN  Компания \"Мегафон\" переозвучила свою рекламу с...       NaN   \n",
       "\n",
       "  synonyms  \n",
       "0        _  \n",
       "1        _  \n",
       "2        _  "
      ]
     },
     "execution_count": 130,
     "metadata": {},
     "output_type": "execute_result"
    }
   ],
   "source": [
    "appwords_df.head(3)"
   ]
  },
  {
   "cell_type": "code",
   "execution_count": 131,
   "metadata": {
    "scrolled": true
   },
   "outputs": [
    {
     "data": {
      "text/html": [
       "<div>\n",
       "<style>\n",
       "    .dataframe thead tr:only-child th {\n",
       "        text-align: right;\n",
       "    }\n",
       "\n",
       "    .dataframe thead th {\n",
       "        text-align: left;\n",
       "    }\n",
       "\n",
       "    .dataframe tbody tr th {\n",
       "        vertical-align: top;\n",
       "    }\n",
       "</style>\n",
       "<table border=\"1\" class=\"dataframe\">\n",
       "  <thead>\n",
       "    <tr style=\"text-align: right;\">\n",
       "      <th></th>\n",
       "      <th>name</th>\n",
       "      <th>fulltext</th>\n",
       "    </tr>\n",
       "  </thead>\n",
       "  <tbody>\n",
       "    <tr>\n",
       "      <th>0</th>\n",
       "      <td>АУЕ</td>\n",
       "      <td>['А.У.Е расшифровка: Жизнь Ворам Сметь мусорам...</td>\n",
       "    </tr>\n",
       "    <tr>\n",
       "      <th>1</th>\n",
       "      <td>Патимейкер</td>\n",
       "      <td>['Новая песня с незамысловатым текстом. Автор ...</td>\n",
       "    </tr>\n",
       "    <tr>\n",
       "      <th>2</th>\n",
       "      <td>Аксемора</td>\n",
       "      <td>['Аксиомора ошибочное произнесение слова \"оксю...</td>\n",
       "    </tr>\n",
       "  </tbody>\n",
       "</table>\n",
       "</div>"
      ],
      "text/plain": [
       "         name                                           fulltext\n",
       "0         АУЕ  ['А.У.Е расшифровка: Жизнь Ворам Сметь мусорам...\n",
       "1  Патимейкер  ['Новая песня с незамысловатым текстом. Автор ...\n",
       "2    Аксемора  ['Аксиомора ошибочное произнесение слова \"оксю..."
      ]
     },
     "execution_count": 131,
     "metadata": {},
     "output_type": "execute_result"
    }
   ],
   "source": [
    "fullwords_df.head(3)"
   ]
  },
  {
   "cell_type": "code",
   "execution_count": 102,
   "metadata": {},
   "outputs": [
    {
     "data": {
      "text/plain": [
       "\"['', 'Хайповый', 'означает модный, в теме, шарит что происходит в мире моды.', 'Хайп', 'это то, что сейчас модно.', 'Хайпим', 'означает тусим, развлекаемся, зажигаем.', '', '', 'Например:', 'Гоша Рубчинский хайп! (означает, что Гоша Рубчинский сейчас в моде)']\""
      ]
     },
     "execution_count": 102,
     "metadata": {},
     "output_type": "execute_result"
    }
   ],
   "source": [
    "fullwords_df['fulltext'][12]"
   ]
  },
  {
   "cell_type": "code",
   "execution_count": null,
   "metadata": {
    "collapsed": true
   },
   "outputs": [],
   "source": []
  },
  {
   "cell_type": "code",
   "execution_count": null,
   "metadata": {
    "collapsed": true
   },
   "outputs": [],
   "source": []
  },
  {
   "cell_type": "code",
   "execution_count": null,
   "metadata": {
    "collapsed": true
   },
   "outputs": [],
   "source": []
  },
  {
   "cell_type": "code",
   "execution_count": 60,
   "metadata": {
    "collapsed": true
   },
   "outputs": [],
   "source": [
    "pkl_file = \"pkl_file.pkl\"\n",
    "fullwords_df.to_pickle(path=pkl_file)"
   ]
  },
  {
   "cell_type": "code",
   "execution_count": 61,
   "metadata": {
    "collapsed": true
   },
   "outputs": [],
   "source": [
    "fullwords_pkl_df = pd.read_pickle(path=pkl_file)"
   ]
  },
  {
   "cell_type": "code",
   "execution_count": 62,
   "metadata": {},
   "outputs": [
    {
     "data": {
      "text/html": [
       "<div>\n",
       "<style>\n",
       "    .dataframe thead tr:only-child th {\n",
       "        text-align: right;\n",
       "    }\n",
       "\n",
       "    .dataframe thead th {\n",
       "        text-align: left;\n",
       "    }\n",
       "\n",
       "    .dataframe tbody tr th {\n",
       "        vertical-align: top;\n",
       "    }\n",
       "</style>\n",
       "<table border=\"1\" class=\"dataframe\">\n",
       "  <thead>\n",
       "    <tr style=\"text-align: right;\">\n",
       "      <th></th>\n",
       "      <th>name</th>\n",
       "      <th>fulltext</th>\n",
       "    </tr>\n",
       "  </thead>\n",
       "  <tbody>\n",
       "    <tr>\n",
       "      <th>0</th>\n",
       "      <td>АУЕ</td>\n",
       "      <td>['А.У.Е расшифровка: Жизнь Ворам Сметь мусорам...</td>\n",
       "    </tr>\n",
       "    <tr>\n",
       "      <th>1</th>\n",
       "      <td>Патимейкер</td>\n",
       "      <td>['Новая песня с незамысловатым текстом. Автор ...</td>\n",
       "    </tr>\n",
       "    <tr>\n",
       "      <th>2</th>\n",
       "      <td>Аксемора</td>\n",
       "      <td>['Аксиомора ошибочное произнесение слова \"оксю...</td>\n",
       "    </tr>\n",
       "    <tr>\n",
       "      <th>3</th>\n",
       "      <td>Голландский штурвал</td>\n",
       "      <td>['Один берет руку другого и начинает управлять...</td>\n",
       "    </tr>\n",
       "    <tr>\n",
       "      <th>4</th>\n",
       "      <td>Трэшер (Thrasher)</td>\n",
       "      <td>['Thrasher — трэшер это скейтерский бренд, кот...</td>\n",
       "    </tr>\n",
       "    <tr>\n",
       "      <th>5</th>\n",
       "      <td>2к17, 2к16, 2к15</td>\n",
       "      <td>['2к16 это 2016, то есть год. Букву', 'к', 'пи...</td>\n",
       "    </tr>\n",
       "    <tr>\n",
       "      <th>6</th>\n",
       "      <td>Дратуте</td>\n",
       "      <td>['Дратути - это приветствие (здравствуйте, доб...</td>\n",
       "    </tr>\n",
       "    <tr>\n",
       "      <th>7</th>\n",
       "      <td>Зашквар</td>\n",
       "      <td>['Самое класическое и актуальное и по сей день...</td>\n",
       "    </tr>\n",
       "    <tr>\n",
       "      <th>8</th>\n",
       "      <td>Флекс, Флексить, низкий флекс</td>\n",
       "      <td>['Танцевать под качающий бит, музыку. Обычно н...</td>\n",
       "    </tr>\n",
       "    <tr>\n",
       "      <th>9</th>\n",
       "      <td>Рофл, Рофлить</td>\n",
       "      <td>['Рофл - Очень громко смеяться или хохотать. Р...</td>\n",
       "    </tr>\n",
       "    <tr>\n",
       "      <th>10</th>\n",
       "      <td>Стоник</td>\n",
       "      <td>['Стоник это одежда бренда Stone Island, отлич...</td>\n",
       "    </tr>\n",
       "    <tr>\n",
       "      <th>11</th>\n",
       "      <td>Вейпер</td>\n",
       "      <td>['Вейпер это тот, кто купит электронную сигаре...</td>\n",
       "    </tr>\n",
       "    <tr>\n",
       "      <th>12</th>\n",
       "      <td>Хайповый, Хайп, Хайпим</td>\n",
       "      <td>['', 'Хайповый', 'означает модный, в теме, шар...</td>\n",
       "    </tr>\n",
       "  </tbody>\n",
       "</table>\n",
       "</div>"
      ],
      "text/plain": [
       "                             name  \\\n",
       "0                             АУЕ   \n",
       "1                      Патимейкер   \n",
       "2                        Аксемора   \n",
       "3             Голландский штурвал   \n",
       "4               Трэшер (Thrasher)   \n",
       "5                2к17, 2к16, 2к15   \n",
       "6                         Дратуте   \n",
       "7                         Зашквар   \n",
       "8   Флекс, Флексить, низкий флекс   \n",
       "9                   Рофл, Рофлить   \n",
       "10                         Стоник   \n",
       "11                         Вейпер   \n",
       "12         Хайповый, Хайп, Хайпим   \n",
       "\n",
       "                                             fulltext  \n",
       "0   ['А.У.Е расшифровка: Жизнь Ворам Сметь мусорам...  \n",
       "1   ['Новая песня с незамысловатым текстом. Автор ...  \n",
       "2   ['Аксиомора ошибочное произнесение слова \"оксю...  \n",
       "3   ['Один берет руку другого и начинает управлять...  \n",
       "4   ['Thrasher — трэшер это скейтерский бренд, кот...  \n",
       "5   ['2к16 это 2016, то есть год. Букву', 'к', 'пи...  \n",
       "6   ['Дратути - это приветствие (здравствуйте, доб...  \n",
       "7   ['Самое класическое и актуальное и по сей день...  \n",
       "8   ['Танцевать под качающий бит, музыку. Обычно н...  \n",
       "9   ['Рофл - Очень громко смеяться или хохотать. Р...  \n",
       "10  ['Стоник это одежда бренда Stone Island, отлич...  \n",
       "11  ['Вейпер это тот, кто купит электронную сигаре...  \n",
       "12  ['', 'Хайповый', 'означает модный, в теме, шар...  "
      ]
     },
     "execution_count": 62,
     "metadata": {},
     "output_type": "execute_result"
    }
   ],
   "source": [
    "fullwords_pkl_df.head(13)"
   ]
  },
  {
   "cell_type": "code",
   "execution_count": 92,
   "metadata": {},
   "outputs": [
    {
     "data": {
      "text/html": [
       "<div>\n",
       "<style>\n",
       "    .dataframe thead tr:only-child th {\n",
       "        text-align: right;\n",
       "    }\n",
       "\n",
       "    .dataframe thead th {\n",
       "        text-align: left;\n",
       "    }\n",
       "\n",
       "    .dataframe tbody tr th {\n",
       "        vertical-align: top;\n",
       "    }\n",
       "</style>\n",
       "<table border=\"1\" class=\"dataframe\">\n",
       "  <thead>\n",
       "    <tr style=\"text-align: right;\">\n",
       "      <th></th>\n",
       "      <th>definition</th>\n",
       "      <th>fulltext</th>\n",
       "      <th>name</th>\n",
       "      <th>origin</th>\n",
       "    </tr>\n",
       "  </thead>\n",
       "  <tbody>\n",
       "    <tr>\n",
       "      <th>0</th>\n",
       "      <td>А.У.Е расшифровка: Жизнь Ворам Сметь мусорам. ...</td>\n",
       "      <td>[, Не пропускайте новые модные слова и мемы: В...</td>\n",
       "      <td>АУЕ</td>\n",
       "      <td>Воряги так говорят, переводится как АРЕСТАНСКИ...</td>\n",
       "    </tr>\n",
       "    <tr>\n",
       "      <th>1</th>\n",
       "      <td>Новая песня с незамысловатым текстом. Автор - ...</td>\n",
       "      <td>[, Не пропускайте новые модные слова и мемы: В...</td>\n",
       "      <td>Патимейкер</td>\n",
       "      <td>Патимейкеры это те, кто организовывают тусу (д...</td>\n",
       "    </tr>\n",
       "    <tr>\n",
       "      <th>2</th>\n",
       "      <td>Аксиомора ошибочное произнесение слова \"оксюмо...</td>\n",
       "      <td>[, Не пропускайте новые модные слова и мемы: В...</td>\n",
       "      <td>Аксемора</td>\n",
       "      <td>Компания \"Мегафон\" переозвучила свою рекламу с...</td>\n",
       "    </tr>\n",
       "  </tbody>\n",
       "</table>\n",
       "</div>"
      ],
      "text/plain": [
       "                                          definition  \\\n",
       "0  А.У.Е расшифровка: Жизнь Ворам Сметь мусорам. ...   \n",
       "1  Новая песня с незамысловатым текстом. Автор - ...   \n",
       "2  Аксиомора ошибочное произнесение слова \"оксюмо...   \n",
       "\n",
       "                                            fulltext        name  \\\n",
       "0  [, Не пропускайте новые модные слова и мемы: В...         АУЕ   \n",
       "1  [, Не пропускайте новые модные слова и мемы: В...  Патимейкер   \n",
       "2  [, Не пропускайте новые модные слова и мемы: В...    Аксемора   \n",
       "\n",
       "                                              origin  \n",
       "0  Воряги так говорят, переводится как АРЕСТАНСКИ...  \n",
       "1  Патимейкеры это те, кто организовывают тусу (д...  \n",
       "2  Компания \"Мегафон\" переозвучила свою рекламу с...  "
      ]
     },
     "execution_count": 92,
     "metadata": {},
     "output_type": "execute_result"
    }
   ],
   "source": [
    "all_words_df = pd.DataFrame(all_words)\n",
    "all_words_df.head(3)"
   ]
  },
  {
   "cell_type": "code",
   "execution_count": null,
   "metadata": {
    "collapsed": true
   },
   "outputs": [],
   "source": []
  },
  {
   "cell_type": "code",
   "execution_count": null,
   "metadata": {
    "collapsed": true
   },
   "outputs": [],
   "source": []
  },
  {
   "cell_type": "code",
   "execution_count": null,
   "metadata": {
    "collapsed": true
   },
   "outputs": [],
   "source": []
  },
  {
   "cell_type": "code",
   "execution_count": null,
   "metadata": {
    "collapsed": true
   },
   "outputs": [],
   "source": []
  },
  {
   "cell_type": "code",
   "execution_count": 97,
   "metadata": {},
   "outputs": [],
   "source": [
    "all_words_df['fulltext'] = all_words_df['fulltext'].apply(remake_fulltext_arrays)"
   ]
  },
  {
   "cell_type": "code",
   "execution_count": null,
   "metadata": {
    "collapsed": true
   },
   "outputs": [],
   "source": []
  },
  {
   "cell_type": "code",
   "execution_count": null,
   "metadata": {
    "collapsed": true
   },
   "outputs": [],
   "source": []
  },
  {
   "cell_type": "code",
   "execution_count": 122,
   "metadata": {},
   "outputs": [
    {
     "name": "stdout",
     "output_type": "stream",
     "text": [
      "<class 'list'>\n"
     ]
    }
   ],
   "source": [
    "print(type(all_words[0]['fulltext']))"
   ]
  },
  {
   "cell_type": "code",
   "execution_count": 123,
   "metadata": {
    "collapsed": true
   },
   "outputs": [],
   "source": [
    "for item in all_words:\n",
    "    item['fulltext'] = remake_fulltext_arrays(item['fulltext'])"
   ]
  },
  {
   "cell_type": "code",
   "execution_count": 124,
   "metadata": {},
   "outputs": [
    {
     "name": "stdout",
     "output_type": "stream",
     "text": [
      "['А.У.Е расшифровка: Жизнь Ворам Сметь мусорам. Крик, одобрение, кричалка. Что то типо асаб, но новый уровень!', 'Воряги так говорят, переводится как АРЕСТАНСКИЙ УКЛАД ЕДИН ИЛИ АРЕСТАНСКОЕ УРКАГАНСКОЕ ЕДИНСТВО. Одним словом, АУЕ это воровское сообщество, которое против законов и ментов.', 'Значение 2:', 'А так же английское AUE означает приветсвие. АУЕ на латинице переводится как \"Здравствуй!\".', 'Уточнение:', 'АУЕ - используется у гопников как один из видов приветствия или одобрения .', 'Также используется у студентов как выражение бурной эмоции. (Oh yeahhhh)']\n"
     ]
    }
   ],
   "source": [
    "print(all_words[0]['fulltext'])"
   ]
  },
  {
   "cell_type": "code",
   "execution_count": 93,
   "metadata": {},
   "outputs": [
    {
     "name": "stdout",
     "output_type": "stream",
     "text": [
      "['', 'Не пропускайте новые модные слова и мемы: Вступайте в группу Вконтакте: https://vk.com/slang_me.', 'А.У.Е расшифровка: Жизнь Ворам Сметь мусорам. Крик, одобрение, кричалка. Что то типо асаб, но новый уровень!', '', 'Воряги так говорят, переводится как АРЕСТАНСКИЙ УКЛАД ЕДИН ИЛИ АРЕСТАНСКОЕ УРКАГАНСКОЕ ЕДИНСТВО. Одним словом, АУЕ это воровское сообщество, которое против законов и ментов.', '', '', 'Значение 2:', 'А так же английское AUE означает приветсвие. АУЕ на латинице переводится как \"Здравствуй!\".', '', '', 'Уточнение:', 'АУЕ - используется у гопников как один из видов приветствия или одобрения .', '', 'Также используется у студентов как выражение бурной эмоции. (Oh yeahhhh)']\n"
     ]
    }
   ],
   "source": [
    "all_words_df['fulltext'][0]"
   ]
  },
  {
   "cell_type": "code",
   "execution_count": 111,
   "metadata": {
    "scrolled": true
   },
   "outputs": [
    {
     "data": {
      "text/plain": [
       "{'definition': 'А.У.Е расшифровка: Жизнь Ворам Сметь мусорам. Крик, одобрение, кричалка. Что то типо асаб, но новый уровень!',\n",
       " 'fulltext': ['',\n",
       "  'Не пропускайте новые модные слова и мемы: Вступайте в группу Вконтакте: https://vk.com/slang_me.',\n",
       "  'А.У.Е расшифровка: Жизнь Ворам Сметь мусорам. Крик, одобрение, кричалка. Что то типо асаб, но новый уровень!',\n",
       "  '',\n",
       "  'Воряги так говорят, переводится как АРЕСТАНСКИЙ УКЛАД ЕДИН ИЛИ АРЕСТАНСКОЕ УРКАГАНСКОЕ ЕДИНСТВО. Одним словом, АУЕ это воровское сообщество, которое против законов и ментов.',\n",
       "  '',\n",
       "  '',\n",
       "  'Значение 2:',\n",
       "  'А так же английское AUE означает приветсвие. АУЕ на латинице переводится как \"Здравствуй!\".',\n",
       "  '',\n",
       "  '',\n",
       "  'Уточнение:',\n",
       "  'АУЕ - используется у гопников как один из видов приветствия или одобрения .',\n",
       "  '',\n",
       "  'Также используется у студентов как выражение бурной эмоции. (Oh yeahhhh)'],\n",
       " 'name': 'АУЕ',\n",
       " 'origin': 'Воряги так говорят, переводится как АРЕСТАНСКИЙ УКЛАД ЕДИН ИЛИ АРЕСТАНСКОЕ УРКАГАНСКОЕ ЕДИНСТВО. Одним словом, АУЕ это воровское сообщество, которое против законов и ментов.Братва мира благопалучия дому вашему общему процветания ходу воравскому ЖИЗНЬ ВОРАМ (ВЕЧНО)Братва до блогасловит господь мой твой души наши грешные а будь так как сказано ворами ЖИЗНЬ ВОРАМ (ВЕЧНО)кто не снами тот под нами братва если бог за нас то кто против нас?только бляди ЖИЗНЬ ВОРАМ'}"
      ]
     },
     "execution_count": 111,
     "metadata": {},
     "output_type": "execute_result"
    }
   ],
   "source": [
    "all_words[0]"
   ]
  },
  {
   "cell_type": "code",
   "execution_count": 108,
   "metadata": {},
   "outputs": [
    {
     "data": {
      "text/plain": [
       "list"
      ]
     },
     "execution_count": 108,
     "metadata": {},
     "output_type": "execute_result"
    }
   ],
   "source": [
    "type(all_words)"
   ]
  },
  {
   "cell_type": "code",
   "execution_count": 109,
   "metadata": {},
   "outputs": [
    {
     "data": {
      "text/plain": [
       "dict"
      ]
     },
     "execution_count": 109,
     "metadata": {},
     "output_type": "execute_result"
    }
   ],
   "source": [
    "type(all_words[0])"
   ]
  },
  {
   "cell_type": "code",
   "execution_count": null,
   "metadata": {
    "collapsed": true
   },
   "outputs": [],
   "source": []
  },
  {
   "cell_type": "code",
   "execution_count": 77,
   "metadata": {},
   "outputs": [
    {
     "data": {
      "text/plain": [
       "\"['2к16 это 2016, то есть год. Букву', 'к', 'пишут вместо нуля.', '', '', 'Пример выражения:', '', '- найк аир макс зашквар в 2к16!', '', '- NBA 2К16 (игра нба 2016)', '', '- это уже не актуально в 2к16', '', '', 'dle_media_begin:https://www.youtube.com/watch?v=AfN8a8wX7YM', '', 'dle_media_end', '', '', 'Можно так же изменять цифру и писать разные года.', '', '', 'dle_media_begin:https://www.youtube.com/watch?v=5PrUUV9la8o', '', 'dle_media_end', '', '', 'Уточнение: Буква k в сочетании с числом обозначает кратную приставку кило-, т.е. множитель 1000. Например: warhammer 40000 иногда записывается, как warhammer 40k, или w40k. (Игорь,Витебск)', '', '', 'Уточнение: Это когда человек шарит Уточнение: Это когда ты решил стать слишком модным даже для цифр.', '', '', 'Уточнение: к расшифровывается как косарь, тысяча. две тысячи (два косаря) шестнадцатый. (Вася ,спб).']\""
      ]
     },
     "execution_count": 77,
     "metadata": {},
     "output_type": "execute_result"
    }
   ],
   "source": [
    "fullwords_df['fulltext'][5]"
   ]
  },
  {
   "cell_type": "code",
   "execution_count": null,
   "metadata": {
    "collapsed": true
   },
   "outputs": [],
   "source": []
  },
  {
   "cell_type": "code",
   "execution_count": 79,
   "metadata": {},
   "outputs": [
    {
     "name": "stdout",
     "output_type": "stream",
     "text": [
      "<class 'list'>\n",
      "<class 'str'> 2к16 это 2016, то есть год. Букву\n",
      "<class 'str'> к\n",
      "<class 'str'> пишут вместо нуля.\n",
      "<class 'str'> \n",
      "<class 'str'> \n",
      "<class 'str'> Пример выражения:\n",
      "<class 'str'> \n",
      "<class 'str'> - найк аир макс зашквар в 2к16!\n",
      "<class 'str'> \n",
      "<class 'str'> - NBA 2К16 (игра нба 2016)\n",
      "<class 'str'> \n",
      "<class 'str'> - это уже не актуально в 2к16\n",
      "<class 'str'> \n",
      "<class 'str'> \n",
      "<class 'str'> dle_media_begin:https://www.youtube.com/watch?v=AfN8a8wX7YM\n",
      "<class 'str'> \n",
      "<class 'str'> dle_media_end\n",
      "<class 'str'> \n",
      "<class 'str'> \n",
      "<class 'str'> Можно так же изменять цифру и писать разные года.\n",
      "<class 'str'> \n",
      "<class 'str'> \n",
      "<class 'str'> dle_media_begin:https://www.youtube.com/watch?v=5PrUUV9la8o\n",
      "<class 'str'> \n",
      "<class 'str'> dle_media_end\n",
      "<class 'str'> \n",
      "<class 'str'> \n",
      "<class 'str'> Уточнение: Буква k в сочетании с числом обозначает кратную приставку кило-, т.е. множитель 1000. Например: warhammer 40000 иногда записывается, как warhammer 40k, или w40k. (Игорь,Витебск)\n",
      "<class 'str'> \n",
      "<class 'str'> \n",
      "<class 'str'> Уточнение: Это когда человек шарит Уточнение: Это когда ты решил стать слишком модным даже для цифр.\n",
      "<class 'str'> \n",
      "<class 'str'> \n",
      "<class 'str'> Уточнение: к расшифровывается как косарь, тысяча. две тысячи (два косаря) шестнадцатый. (Вася ,спб).\n"
     ]
    }
   ],
   "source": [
    "old_str = \"['2к16 это 2016, то есть год. Букву', 'к', 'пишут вместо нуля.', '', '', 'Пример выражения:', '', '- найк аир макс зашквар в 2к16!', '', '- NBA 2К16 (игра нба 2016)', '', '- это уже не актуально в 2к16', '', '', 'dle_media_begin:https://www.youtube.com/watch?v=AfN8a8wX7YM', '', 'dle_media_end', '', '', 'Можно так же изменять цифру и писать разные года.', '', '', 'dle_media_begin:https://www.youtube.com/watch?v=5PrUUV9la8o', '', 'dle_media_end', '', '', 'Уточнение: Буква k в сочетании с числом обозначает кратную приставку кило-, т.е. множитель 1000. Например: warhammer 40000 иногда записывается, как warhammer 40k, или w40k. (Игорь,Витебск)', '', '', 'Уточнение: Это когда человек шарит Уточнение: Это когда ты решил стать слишком модным даже для цифр.', '', '', 'Уточнение: к расшифровывается как косарь, тысяча. две тысячи (два косаря) шестнадцатый. (Вася ,спб).']\"\n",
    "new_str = literal_eval(old_str)\n",
    "print(type(new_str))\n",
    "new_array = []\n",
    "for item in new_str:\n",
    "    print(type(item), item)\n",
    "    if item != \"\":\n",
    "        new_array.append(item)"
   ]
  },
  {
   "cell_type": "code",
   "execution_count": 95,
   "metadata": {},
   "outputs": [],
   "source": [
    "def remake_fulltext_arrays(fulltext_array):\n",
    "    new_array = []\n",
    "    old = literal_eval(str(fulltext_array))\n",
    "    for item in old[2:]:\n",
    "        if item != \"\":\n",
    "            new_array.append(item)\n",
    "    return new_array"
   ]
  },
  {
   "cell_type": "code",
   "execution_count": 85,
   "metadata": {
    "scrolled": true
   },
   "outputs": [],
   "source": [
    "fullwords_pkl_df['fulltext'] = fullwords_pkl_df['fulltext'].apply(remake_fulltext_arrays)"
   ]
  },
  {
   "cell_type": "code",
   "execution_count": 91,
   "metadata": {},
   "outputs": [],
   "source": [
    "fullwords_pkl_df.to_csv(vsekidki_fullwords_csv)"
   ]
  },
  {
   "cell_type": "code",
   "execution_count": null,
   "metadata": {
    "collapsed": true
   },
   "outputs": [],
   "source": []
  },
  {
   "cell_type": "code",
   "execution_count": null,
   "metadata": {},
   "outputs": [],
   "source": [
    "fullwords_df['fulltext'].apply(remake_fulltext_arrays)"
   ]
  },
  {
   "cell_type": "code",
   "execution_count": null,
   "metadata": {
    "collapsed": true
   },
   "outputs": [],
   "source": [
    "make_fullwords_pkl(vsekidki_fullwords_csv)\n",
    "add_fullwords_to_pkl(all_words, vsekidki_fullwords_csv)"
   ]
  },
  {
   "cell_type": "code",
   "execution_count": null,
   "metadata": {
    "collapsed": true
   },
   "outputs": [],
   "source": [
    "def make_fullwords_pkl(path):\n",
    "    with open(path, 'w') as csvfile:\n",
    "        writer = csv.writer(csvfile)\n",
    "        writer.writerow(('name','fulltext'))\n",
    "\n",
    "\n",
    "def add_fullwords_to_pkl(dict, path):\n",
    "    with open(path, 'a') as csvfile:\n",
    "        writer = csv.writer(csvfile)\n",
    "        for word in dict:\n",
    "            writer.writerow((word['name'], word['fulltext'][2:]))"
   ]
  },
  {
   "cell_type": "code",
   "execution_count": null,
   "metadata": {
    "collapsed": true
   },
   "outputs": [],
   "source": []
  },
  {
   "cell_type": "code",
   "execution_count": null,
   "metadata": {
    "collapsed": true
   },
   "outputs": [],
   "source": []
  },
  {
   "cell_type": "code",
   "execution_count": null,
   "metadata": {
    "collapsed": true
   },
   "outputs": [],
   "source": []
  },
  {
   "cell_type": "code",
   "execution_count": null,
   "metadata": {
    "collapsed": true
   },
   "outputs": [],
   "source": []
  },
  {
   "cell_type": "code",
   "execution_count": null,
   "metadata": {
    "collapsed": true
   },
   "outputs": [],
   "source": []
  },
  {
   "cell_type": "code",
   "execution_count": 9,
   "metadata": {},
   "outputs": [
    {
     "data": {
      "text/html": [
       "<div>\n",
       "<style>\n",
       "    .dataframe thead tr:only-child th {\n",
       "        text-align: right;\n",
       "    }\n",
       "\n",
       "    .dataframe thead th {\n",
       "        text-align: left;\n",
       "    }\n",
       "\n",
       "    .dataframe tbody tr th {\n",
       "        vertical-align: top;\n",
       "    }\n",
       "</style>\n",
       "<table border=\"1\" class=\"dataframe\">\n",
       "  <thead>\n",
       "    <tr style=\"text-align: right;\">\n",
       "      <th></th>\n",
       "      <th>name</th>\n",
       "      <th>definition</th>\n",
       "      <th>type</th>\n",
       "      <th>group</th>\n",
       "      <th>examples</th>\n",
       "      <th>hashtags</th>\n",
       "      <th>origin</th>\n",
       "      <th>synonyms</th>\n",
       "    </tr>\n",
       "  </thead>\n",
       "  <tbody>\n",
       "    <tr>\n",
       "      <th>0</th>\n",
       "      <td>АУЕ</td>\n",
       "      <td>А.У.Е расшифровка: Жизнь Ворам Сметь мусорам. ...</td>\n",
       "      <td>NonNone</td>\n",
       "      <td>NonNone</td>\n",
       "      <td>NonNone</td>\n",
       "      <td>NonNone</td>\n",
       "      <td>Воряги так говорят, переводится как АРЕСТАНСКИ...</td>\n",
       "      <td>NonNone</td>\n",
       "    </tr>\n",
       "    <tr>\n",
       "      <th>1</th>\n",
       "      <td>Патимейкер</td>\n",
       "      <td>Новая песня с незамысловатым текстом. Автор - ...</td>\n",
       "      <td>NonNone</td>\n",
       "      <td>NonNone</td>\n",
       "      <td>NonNone</td>\n",
       "      <td>NonNone</td>\n",
       "      <td>Патимейкеры это те, кто организовывают тусу (д...</td>\n",
       "      <td>NonNone</td>\n",
       "    </tr>\n",
       "    <tr>\n",
       "      <th>2</th>\n",
       "      <td>Аксемора</td>\n",
       "      <td>Аксиомора ошибочное произнесение слова \"оксюмо...</td>\n",
       "      <td>NonNone</td>\n",
       "      <td>NonNone</td>\n",
       "      <td>NonNone</td>\n",
       "      <td>NonNone</td>\n",
       "      <td>Компания \"Мегафон\" переозвучила свою рекламу с...</td>\n",
       "      <td>NonNone</td>\n",
       "    </tr>\n",
       "    <tr>\n",
       "      <th>3</th>\n",
       "      <td>Голландский штурвал</td>\n",
       "      <td>Один берет руку другого и начинает управлять, ...</td>\n",
       "      <td>NonNone</td>\n",
       "      <td>NonNone</td>\n",
       "      <td>NonNone</td>\n",
       "      <td>NonNone</td>\n",
       "      <td>Все пошло из отрывка из фильма \"Зак и Мири Сни...</td>\n",
       "      <td>NonNone</td>\n",
       "    </tr>\n",
       "    <tr>\n",
       "      <th>4</th>\n",
       "      <td>Трэшер (Thrasher)</td>\n",
       "      <td>Thrasher — трэшер это скейтерский бренд, котор...</td>\n",
       "      <td>NonNone</td>\n",
       "      <td>NonNone</td>\n",
       "      <td>NonNone</td>\n",
       "      <td>NonNone</td>\n",
       "      <td>NaN</td>\n",
       "      <td>NonNone</td>\n",
       "    </tr>\n",
       "  </tbody>\n",
       "</table>\n",
       "</div>"
      ],
      "text/plain": [
       "                  name                                         definition  \\\n",
       "0                  АУЕ  А.У.Е расшифровка: Жизнь Ворам Сметь мусорам. ...   \n",
       "1           Патимейкер  Новая песня с незамысловатым текстом. Автор - ...   \n",
       "2             Аксемора  Аксиомора ошибочное произнесение слова \"оксюмо...   \n",
       "3  Голландский штурвал  Один берет руку другого и начинает управлять, ...   \n",
       "4    Трэшер (Thrasher)  Thrasher — трэшер это скейтерский бренд, котор...   \n",
       "\n",
       "      type    group examples hashtags  \\\n",
       "0  NonNone  NonNone  NonNone  NonNone   \n",
       "1  NonNone  NonNone  NonNone  NonNone   \n",
       "2  NonNone  NonNone  NonNone  NonNone   \n",
       "3  NonNone  NonNone  NonNone  NonNone   \n",
       "4  NonNone  NonNone  NonNone  NonNone   \n",
       "\n",
       "                                              origin synonyms  \n",
       "0  Воряги так говорят, переводится как АРЕСТАНСКИ...  NonNone  \n",
       "1  Патимейкеры это те, кто организовывают тусу (д...  NonNone  \n",
       "2  Компания \"Мегафон\" переозвучила свою рекламу с...  NonNone  \n",
       "3  Все пошло из отрывка из фильма \"Зак и Мири Сни...  NonNone  \n",
       "4                                                NaN  NonNone  "
      ]
     },
     "execution_count": 9,
     "metadata": {},
     "output_type": "execute_result"
    }
   ],
   "source": [
    "dicton.rename(columns={'story':'origin'}, inplace=True)\n",
    "dicton.head(5)"
   ]
  },
  {
   "cell_type": "code",
   "execution_count": 10,
   "metadata": {
    "collapsed": true
   },
   "outputs": [],
   "source": [
    "all_w = dicton.to_dict('records')"
   ]
  },
  {
   "cell_type": "code",
   "execution_count": 13,
   "metadata": {},
   "outputs": [
    {
     "data": {
      "text/plain": [
       "{'definition': 'А.У.Е расшифровка: Жизнь Ворам Сметь мусорам. Крик, одобрение, кричалка. Что то типо асаб, но новый уровень!',\n",
       " 'examples': 'NonNone',\n",
       " 'group': 'NonNone',\n",
       " 'hashtags': 'NonNone',\n",
       " 'name': 'АУЕ',\n",
       " 'origin': 'Воряги так говорят, переводится как АРЕСТАНСКИЙ УКЛАД ЕДИН ИЛИ АРЕСТАНСКОЕ УРКАГАНСКОЕ ЕДИНСТВО. Одним словом, АУЕ это воровское сообщество, которое против законов и ментов.Братва мира благопалучия дому вашему общему процветания ходу воравскому ЖИЗНЬ ВОРАМ (ВЕЧНО)Братва до блогасловит господь мой твой души наши грешные а будь так как сказано ворами ЖИЗНЬ ВОРАМ (ВЕЧНО)кто не снами тот под нами братва если бог за нас то кто против нас?только бляди ЖИЗНЬ ВОРАМ',\n",
       " 'synonyms': 'NonNone',\n",
       " 'type': 'NonNone'}"
      ]
     },
     "execution_count": 13,
     "metadata": {},
     "output_type": "execute_result"
    }
   ],
   "source": [
    "all_w[0]"
   ]
  },
  {
   "cell_type": "markdown",
   "metadata": {},
   "source": [
    "path1 = \"vsekidki1.csv\""
   ]
  },
  {
   "cell_type": "markdown",
   "metadata": {},
   "source": [
    "make_file(path1)\n",
    "add_words_to_file(all_w, path1)"
   ]
  },
  {
   "cell_type": "code",
   "execution_count": 21,
   "metadata": {},
   "outputs": [
    {
     "data": {
      "text/html": [
       "<div>\n",
       "<style>\n",
       "    .dataframe thead tr:only-child th {\n",
       "        text-align: right;\n",
       "    }\n",
       "\n",
       "    .dataframe thead th {\n",
       "        text-align: left;\n",
       "    }\n",
       "\n",
       "    .dataframe tbody tr th {\n",
       "        vertical-align: top;\n",
       "    }\n",
       "</style>\n",
       "<table border=\"1\" class=\"dataframe\">\n",
       "  <thead>\n",
       "    <tr style=\"text-align: right;\">\n",
       "      <th></th>\n",
       "      <th>name</th>\n",
       "      <th>definition</th>\n",
       "      <th>type</th>\n",
       "      <th>group</th>\n",
       "      <th>examples</th>\n",
       "      <th>hashtags</th>\n",
       "      <th>origin</th>\n",
       "      <th>synonyms</th>\n",
       "    </tr>\n",
       "  </thead>\n",
       "  <tbody>\n",
       "    <tr>\n",
       "      <th>0</th>\n",
       "      <td>АУЕ</td>\n",
       "      <td>А.У.Е расшифровка: Жизнь Ворам Сметь мусорам. ...</td>\n",
       "      <td></td>\n",
       "      <td></td>\n",
       "      <td></td>\n",
       "      <td></td>\n",
       "      <td>Воряги так говорят, переводится как АРЕСТАНСКИ...</td>\n",
       "      <td></td>\n",
       "    </tr>\n",
       "    <tr>\n",
       "      <th>1</th>\n",
       "      <td>Патимейкер</td>\n",
       "      <td>Новая песня с незамысловатым текстом. Автор - ...</td>\n",
       "      <td></td>\n",
       "      <td></td>\n",
       "      <td></td>\n",
       "      <td></td>\n",
       "      <td>Патимейкеры это те, кто организовывают тусу (д...</td>\n",
       "      <td></td>\n",
       "    </tr>\n",
       "    <tr>\n",
       "      <th>2</th>\n",
       "      <td>Аксемора</td>\n",
       "      <td>Аксиомора ошибочное произнесение слова \"оксюмо...</td>\n",
       "      <td></td>\n",
       "      <td></td>\n",
       "      <td></td>\n",
       "      <td></td>\n",
       "      <td>Компания \"Мегафон\" переозвучила свою рекламу с...</td>\n",
       "      <td></td>\n",
       "    </tr>\n",
       "    <tr>\n",
       "      <th>3</th>\n",
       "      <td>Голландский штурвал</td>\n",
       "      <td>Один берет руку другого и начинает управлять, ...</td>\n",
       "      <td></td>\n",
       "      <td></td>\n",
       "      <td></td>\n",
       "      <td></td>\n",
       "      <td>Все пошло из отрывка из фильма \"Зак и Мири Сни...</td>\n",
       "      <td></td>\n",
       "    </tr>\n",
       "    <tr>\n",
       "      <th>4</th>\n",
       "      <td>Трэшер (Thrasher)</td>\n",
       "      <td>Thrasher — трэшер это скейтерский бренд, котор...</td>\n",
       "      <td></td>\n",
       "      <td></td>\n",
       "      <td></td>\n",
       "      <td></td>\n",
       "      <td>NaN</td>\n",
       "      <td></td>\n",
       "    </tr>\n",
       "  </tbody>\n",
       "</table>\n",
       "</div>"
      ],
      "text/plain": [
       "                  name                                         definition  \\\n",
       "0                  АУЕ  А.У.Е расшифровка: Жизнь Ворам Сметь мусорам. ...   \n",
       "1           Патимейкер  Новая песня с незамысловатым текстом. Автор - ...   \n",
       "2             Аксемора  Аксиомора ошибочное произнесение слова \"оксюмо...   \n",
       "3  Голландский штурвал  Один берет руку другого и начинает управлять, ...   \n",
       "4    Трэшер (Thrasher)  Thrasher — трэшер это скейтерский бренд, котор...   \n",
       "\n",
       "  type group examples hashtags  \\\n",
       "0                                \n",
       "1                                \n",
       "2                                \n",
       "3                                \n",
       "4                                \n",
       "\n",
       "                                              origin synonyms  \n",
       "0  Воряги так говорят, переводится как АРЕСТАНСКИ...           \n",
       "1  Патимейкеры это те, кто организовывают тусу (д...           \n",
       "2  Компания \"Мегафон\" переозвучила свою рекламу с...           \n",
       "3  Все пошло из отрывка из фильма \"Зак и Мири Сни...           \n",
       "4                                                NaN           "
      ]
     },
     "execution_count": 21,
     "metadata": {},
     "output_type": "execute_result"
    }
   ],
   "source": [
    "dicton1 = pd.read_csv(path1)\n",
    "dicton1.head(5)"
   ]
  },
  {
   "cell_type": "code",
   "execution_count": 22,
   "metadata": {
    "collapsed": true
   },
   "outputs": [],
   "source": [
    "all_w1 = dicton1.to_dict('records')"
   ]
  },
  {
   "cell_type": "code",
   "execution_count": 23,
   "metadata": {},
   "outputs": [
    {
     "data": {
      "text/plain": [
       "{'definition': 'А.У.Е расшифровка: Жизнь Ворам Сметь мусорам. Крик, одобрение, кричалка. Что то типо асаб, но новый уровень!',\n",
       " 'examples': ' ',\n",
       " 'group': ' ',\n",
       " 'hashtags': ' ',\n",
       " 'name': 'АУЕ',\n",
       " 'origin': 'Воряги так говорят, переводится как АРЕСТАНСКИЙ УКЛАД ЕДИН ИЛИ АРЕСТАНСКОЕ УРКАГАНСКОЕ ЕДИНСТВО. Одним словом, АУЕ это воровское сообщество, которое против законов и ментов.Братва мира благопалучия дому вашему общему процветания ходу воравскому ЖИЗНЬ ВОРАМ (ВЕЧНО)Братва до блогасловит господь мой твой души наши грешные а будь так как сказано ворами ЖИЗНЬ ВОРАМ (ВЕЧНО)кто не снами тот под нами братва если бог за нас то кто против нас?только бляди ЖИЗНЬ ВОРАМ',\n",
       " 'synonyms': ' ',\n",
       " 'type': ' '}"
      ]
     },
     "execution_count": 23,
     "metadata": {},
     "output_type": "execute_result"
    }
   ],
   "source": [
    "all_w1[0]"
   ]
  },
  {
   "cell_type": "code",
   "execution_count": 24,
   "metadata": {
    "collapsed": true
   },
   "outputs": [],
   "source": [
    "path2 = \"vsekidki2.csv\"\n",
    "make_file(path2)\n",
    "add_words_to_file(all_w, path2)"
   ]
  },
  {
   "cell_type": "code",
   "execution_count": 25,
   "metadata": {},
   "outputs": [
    {
     "data": {
      "text/html": [
       "<div>\n",
       "<style>\n",
       "    .dataframe thead tr:only-child th {\n",
       "        text-align: right;\n",
       "    }\n",
       "\n",
       "    .dataframe thead th {\n",
       "        text-align: left;\n",
       "    }\n",
       "\n",
       "    .dataframe tbody tr th {\n",
       "        vertical-align: top;\n",
       "    }\n",
       "</style>\n",
       "<table border=\"1\" class=\"dataframe\">\n",
       "  <thead>\n",
       "    <tr style=\"text-align: right;\">\n",
       "      <th></th>\n",
       "      <th>name</th>\n",
       "      <th>definition</th>\n",
       "      <th>type</th>\n",
       "      <th>group</th>\n",
       "      <th>examples</th>\n",
       "      <th>hashtags</th>\n",
       "      <th>origin</th>\n",
       "      <th>synonyms</th>\n",
       "    </tr>\n",
       "  </thead>\n",
       "  <tbody>\n",
       "    <tr>\n",
       "      <th>0</th>\n",
       "      <td>АУЕ</td>\n",
       "      <td>А.У.Е расшифровка: Жизнь Ворам Сметь мусорам. ...</td>\n",
       "      <td></td>\n",
       "      <td></td>\n",
       "      <td></td>\n",
       "      <td></td>\n",
       "      <td>Воряги так говорят, переводится как АРЕСТАНСКИ...</td>\n",
       "      <td></td>\n",
       "    </tr>\n",
       "    <tr>\n",
       "      <th>1</th>\n",
       "      <td>Патимейкер</td>\n",
       "      <td>Новая песня с незамысловатым текстом. Автор - ...</td>\n",
       "      <td></td>\n",
       "      <td></td>\n",
       "      <td></td>\n",
       "      <td></td>\n",
       "      <td>Патимейкеры это те, кто организовывают тусу (д...</td>\n",
       "      <td></td>\n",
       "    </tr>\n",
       "    <tr>\n",
       "      <th>2</th>\n",
       "      <td>Аксемора</td>\n",
       "      <td>Аксиомора ошибочное произнесение слова \"оксюмо...</td>\n",
       "      <td></td>\n",
       "      <td></td>\n",
       "      <td></td>\n",
       "      <td></td>\n",
       "      <td>Компания \"Мегафон\" переозвучила свою рекламу с...</td>\n",
       "      <td></td>\n",
       "    </tr>\n",
       "    <tr>\n",
       "      <th>3</th>\n",
       "      <td>Голландский штурвал</td>\n",
       "      <td>Один берет руку другого и начинает управлять, ...</td>\n",
       "      <td></td>\n",
       "      <td></td>\n",
       "      <td></td>\n",
       "      <td></td>\n",
       "      <td>Все пошло из отрывка из фильма \"Зак и Мири Сни...</td>\n",
       "      <td></td>\n",
       "    </tr>\n",
       "    <tr>\n",
       "      <th>4</th>\n",
       "      <td>Трэшер (Thrasher)</td>\n",
       "      <td>Thrasher — трэшер это скейтерский бренд, котор...</td>\n",
       "      <td></td>\n",
       "      <td></td>\n",
       "      <td></td>\n",
       "      <td></td>\n",
       "      <td>NaN</td>\n",
       "      <td></td>\n",
       "    </tr>\n",
       "  </tbody>\n",
       "</table>\n",
       "</div>"
      ],
      "text/plain": [
       "                  name                                         definition  \\\n",
       "0                  АУЕ  А.У.Е расшифровка: Жизнь Ворам Сметь мусорам. ...   \n",
       "1           Патимейкер  Новая песня с незамысловатым текстом. Автор - ...   \n",
       "2             Аксемора  Аксиомора ошибочное произнесение слова \"оксюмо...   \n",
       "3  Голландский штурвал  Один берет руку другого и начинает управлять, ...   \n",
       "4    Трэшер (Thrasher)  Thrasher — трэшер это скейтерский бренд, котор...   \n",
       "\n",
       "  type group examples hashtags  \\\n",
       "0                                \n",
       "1                                \n",
       "2                                \n",
       "3                                \n",
       "4                                \n",
       "\n",
       "                                              origin synonyms  \n",
       "0  Воряги так говорят, переводится как АРЕСТАНСКИ...           \n",
       "1  Патимейкеры это те, кто организовывают тусу (д...           \n",
       "2  Компания \"Мегафон\" переозвучила свою рекламу с...           \n",
       "3  Все пошло из отрывка из фильма \"Зак и Мири Сни...           \n",
       "4                                                NaN           "
      ]
     },
     "execution_count": 25,
     "metadata": {},
     "output_type": "execute_result"
    }
   ],
   "source": [
    "dicton2 = pd.read_csv(path2)\n",
    "dicton2.head(5)"
   ]
  },
  {
   "cell_type": "code",
   "execution_count": null,
   "metadata": {
    "collapsed": true
   },
   "outputs": [],
   "source": [
    "def Text_from_html_object(text):\n",
    "    start = text.find(\"<\")\n",
    "    finish = text.find(\">\")\n",
    "    text = text[:start] + text[finish + 1:]\n",
    "    check_for_tag = text.find('<', start)\n",
    "    while check_for_tag != -1:\n",
    "            end_of_tag = text.find('>', check_for_tag)\n",
    "            text = text[:check_for_tag] + text[end_of_tag + 1:]\n",
    "            check_for_tag = text.find('<', check_for_tag)\n",
    "    return text\n",
    "\n",
    "def Text_from_html_arr(arr):\n",
    "    answer_text = ''\n",
    "    for object in arr:\n",
    "        text = str(object)\n",
    "        check_for_tag = text.find('<')\n",
    "        while check_for_tag != -1:\n",
    "            end_of_tag = text.find('>', check_for_tag)\n",
    "            text = text[:check_for_tag] + text[end_of_tag + 1:]\n",
    "            check_for_tag = text.find('<', check_for_tag)\n",
    "        answer_text += text\n",
    "    return answer_text\n",
    "\n",
    "def get_page_count(soup):\n",
    "    list_of_pages = soup.find_all('a', class_='page_number')\n",
    "    try:\n",
    "        last_page = list_of_pages[-2]\n",
    "    except IndexError:\n",
    "        return 1\n",
    "    last_number = Text_from_html_object(str(last_page))\n",
    "    return int(last_number)\n",
    "\n",
    "def take_rus_letters_numbers(soup):\n",
    "    links = []\n",
    "    list_of_links = soup.find_all('a', class_='alph_menu')\n",
    "    for link in list_of_links:\n",
    "        pos = int(str(link).find(\"%D0%\")) + 4\n",
    "        name = str(str(link)[pos:pos+2])\n",
    "        if name != \"81\":\n",
    "            links.append(name)\n",
    "    return links\n",
    "\n",
    "def make_file(path):\n",
    "    with open(path, 'w') as csvfile:\n",
    "        writer = csv.writer(csvfile)\n",
    "        writer.writerow(('name', 'type', 'group', 'definition', 'examples', 'hashtags', 'story', 'synonyms'))\n",
    "\n",
    "def add_words_to_file(dict, path):\n",
    "    with open(path, 'a') as csvfile:\n",
    "        writer = csv.writer(csvfile)\n",
    "        for word in dict:\n",
    "            writer.writerow((word['name'], word['meaning'], word['type'], word['group'], \n",
    "                             word['example'], word['story'], word['hashtag'], word['synonyms']))\n",
    "            \n",
    "\n",
    "    \n",
    "# and then rename mycsv.out to mycsv.csv if you wish.\n",
    "\n",
    "def get_words_from_Teenslang(from_i, to_i, file):\n",
    "    make_file(file)\n",
    "    for j in range(from_i, to_i + 1):\n",
    "        driver.get('http://teenslang.su/content/%D0%'+ rus_letters_numbers[j]) # download site to the Selenium\n",
    "        html = driver.page_source # saving site source\n",
    "        soup = BeautifulSoup(html, \"lxml\")\n",
    "        page_count = get_page_count(soup)\n",
    "        print('Буква алфавита № ' + str(j + 1) + ': ')\n",
    "        dict = []\n",
    "        for i in range(page_count):\n",
    "            if i > 0:\n",
    "                driver.get('http://teenslang.su/?page=' + str(i) + '&content=%D0%'+ rus_letters_numbers[j] + '*') # load sites\n",
    "                html = driver.page_source # saving site source\n",
    "                soup = BeautifulSoup(html, \"lxml\")\n",
    "            print('Парсинг %d из %d' % (i + 1, page_count))\n",
    "            table = soup.find('div', class_='visible-xs visible-md visible-sm visible-lg col-lg-6')\n",
    "            words = table.find_all('div', class_='issueword1')\n",
    "\n",
    "            for word_row in words:\n",
    "                word_name = Text_from_html_object(str(word_row.find('span', class_='cap')))\n",
    "                word_type = Text_from_html_object(str(word_row.find('span', class_='sta')))\n",
    "                word_group = Text_from_html_object(str(word_row.find('span', class_='sph')))\n",
    "                word_def = Text_from_html_object(str(word_row.find('span', class_='mea')))\n",
    "                word_example = Text_from_html_object(str(word_row.find('span', class_='text')))\n",
    "                word_story = Text_from_html_arr(word_row.find_all('div', class_='category'))\n",
    "                word_hash = Text_from_html_object(str(word_row.find('span', class_='src')))\n",
    "                word_syn = Text_from_html_object(str(word_row.find('span', class_='syn')))\n",
    "                dict.append({\n",
    "                    'num': i,\n",
    "                    'name': word_name,\n",
    "                    'type': word_type,\n",
    "                    'group': word_group,\n",
    "                    'meaning': word_def,\n",
    "                    'example': word_example,\n",
    "                    'story': word_story,\n",
    "                    'hashtag': word_hash,\n",
    "                    'synonyms': word_syn\n",
    "                })\n",
    "        add_words_to_file(dict, file)\n",
    "    print(\"!!!!!!!!!!!ВСЕ!!!!!!!!!!\")\n",
    "            \n",
    "        \n",
    "def get_rus_letters_numbers():\n",
    "    driver.get(\"http://teenslang.su/content/%D0%90\")\n",
    "    html = driver.page_source # saving site source\n",
    "    soup = BeautifulSoup(html, \"lxml\")\n",
    "    rus_letters_numbers = take_rus_letters_numbers(soup)\n",
    "    return rus_letters_numbers\n",
    "\n",
    "def capitalize_and_strip_string(x):\n",
    "    return x.capitalize().strip()"
   ]
  },
  {
   "cell_type": "code",
   "execution_count": null,
   "metadata": {
    "collapsed": true
   },
   "outputs": [],
   "source": [
    "driver = webdriver.PhantomJS()\n",
    "global driver\n",
    "rus_letters_numbers = get_rus_letters_numbers()"
   ]
  },
  {
   "cell_type": "code",
   "execution_count": null,
   "metadata": {
    "collapsed": true
   },
   "outputs": [],
   "source": [
    "file = \"dict.csv\""
   ]
  },
  {
   "cell_type": "code",
   "execution_count": null,
   "metadata": {
    "collapsed": true
   },
   "outputs": [],
   "source": [
    "get_words_from_Teenslang(from_i=9, to_i=9, file=file)"
   ]
  },
  {
   "cell_type": "code",
   "execution_count": null,
   "metadata": {
    "collapsed": true
   },
   "outputs": [],
   "source": [
    "dict = pd.read_csv(file)\n",
    "dict.head(5)"
   ]
  },
  {
   "cell_type": "code",
   "execution_count": null,
   "metadata": {
    "collapsed": true
   },
   "outputs": [],
   "source": [
    "fulldict = pd.read_csv(\"fullDict.csv\")\n",
    "fulldict.drop_duplicates(keep='first')\n",
    "fulldict['name'] = fulldict['name'].apply(capitalize_and_strip_string)"
   ]
  },
  {
   "cell_type": "code",
   "execution_count": null,
   "metadata": {
    "collapsed": true
   },
   "outputs": [],
   "source": [
    "print(fulldict['name'].find('a'))\n",
    "fulldict[a:a + 3]"
   ]
  },
  {
   "cell_type": "code",
   "execution_count": null,
   "metadata": {
    "collapsed": true
   },
   "outputs": [],
   "source": [
    "fulldict.to_csv(\"fullDict.csv\", sep=',', index=False)"
   ]
  },
  {
   "cell_type": "code",
   "execution_count": null,
   "metadata": {
    "collapsed": true
   },
   "outputs": [],
   "source": [
    "wordsNamesSeries = fulldict['name']"
   ]
  },
  {
   "cell_type": "code",
   "execution_count": null,
   "metadata": {
    "collapsed": true
   },
   "outputs": [],
   "source": [
    "wordsNames.apply(capitalize_and_strip_string)\n",
    "wordsNames.tolist()"
   ]
  },
  {
   "cell_type": "code",
   "execution_count": null,
   "metadata": {
    "collapsed": true
   },
   "outputs": [],
   "source": [
    "myDic={'b': 2, 'a': 3, 'c': 1}\n",
    "def print_dict_sorted_by_value(dictionary):\n",
    "    for (key, value) in sorted(dictionary.items(), key=lambda x: x[1], reverse=True):\n",
    "        print(key, \": \", value, sep='')"
   ]
  },
  {
   "cell_type": "code",
   "execution_count": null,
   "metadata": {
    "collapsed": true
   },
   "outputs": [],
   "source": []
  },
  {
   "cell_type": "code",
   "execution_count": 14,
   "metadata": {
    "collapsed": true
   },
   "outputs": [],
   "source": [
    "file = \"vsekidki_dict.csv\"\n",
    "driver = webdriver.PhantomJS('/home/kam/Desktop/phantomjs')\n",
    "global driver\n",
    "make_file(file)"
   ]
  }
 ],
 "metadata": {
  "kernelspec": {
   "display_name": "Python 3",
   "language": "python",
   "name": "python3"
  },
  "language_info": {
   "codemirror_mode": {
    "name": "ipython",
    "version": 3
   },
   "file_extension": ".py",
   "mimetype": "text/x-python",
   "name": "python",
   "nbconvert_exporter": "python",
   "pygments_lexer": "ipython3",
   "version": "3.6.1"
  }
 },
 "nbformat": 4,
 "nbformat_minor": 2
}
