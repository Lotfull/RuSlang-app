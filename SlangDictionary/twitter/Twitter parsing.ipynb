{
 "cells": [
  {
   "cell_type": "code",
   "execution_count": 3,
   "metadata": {
    "collapsed": true
   },
   "outputs": [],
   "source": [
    "__author__ = 'lotfull'\n",
    "# !/usr/bin/env python\n",
    "# -*- coding: utf-8 -*-\n",
    "import numpy\n",
    "import os\n",
    "import pandas as pd\n",
    "import csv\n",
    "import sqlite3 as lite\n",
    "import time\n",
    "import json\n",
    "from bs4 import BeautifulSoup\n",
    "from selenium import webdriver\n",
    "from shutil import copyfile\n",
    "import tweepy\n",
    "from tweepy import Stream\n",
    "from tweepy import OAuthHandler\n",
    "from tweepy import StreamListener"
   ]
  },
  {
   "cell_type": "code",
   "execution_count": 4,
   "metadata": {
    "collapsed": true
   },
   "outputs": [],
   "source": [
    "consumer_secret = \"Ht0eDzAsWJwnP1vTiiGH0hKE3ZCfvuzJuJVUKJjfR2Sjj4Wh5t\"\n",
    "consumer_key = \"3JGcrhPkeOjUrEMDNZEer8X9y\"\n",
    "access_token = \"298552064-DJC8sHqkD0psgZbdg1mhoqBryUvL3kJfpXcZayzQ\"\n",
    "access_token_secret = \"9HUme1VG5ckhRrc8Cj5uqnR0uqFDSHhMcjUxkeTuFCtXW\"\n",
    "\n",
    "auth = OAuthHandler(consumer_key, consumer_secret)\n",
    "auth.set_access_token(access_token, access_token_secret)\n",
    "api = tweepy.API(auth)\n",
    "#public_tweets = api.home_timeline()\n",
    "#for tweet in public_tweets:\n",
    " #   print(tweet.text)"
   ]
  },
  {
   "cell_type": "code",
   "execution_count": 38,
   "metadata": {
    "collapsed": true
   },
   "outputs": [],
   "source": [
    "count = 0\n",
    "last_count = 0\n",
    "\n",
    "first = 50\n",
    "end = 100\n",
    "step = first\n",
    "\n",
    "words = [u\"дратути\", u\"путлер\", u\"тян\", u\"кун\", u\"шавуха\", u\"ето \", u\"зашквар\", u\"бро\", u\"брутальный\", u\"зига\", u\"лузер\", u\"марамойка\", u\"омг\", u\"ололо\", u\"онотоле\", u\"педовка\", u\"стафф\", u\"фейк\", u\"хасл\", u\"хейтер\", u\"азаз\", u\"сорян\", u\"млять\", u\"госпади\", u\"лол\", u\"кек\", u\"навальный\", u\"ипаный\", u\"нахой\", u\"ахуенно\", u\"жиза\", u\"усманов\", u\"димон\", u\"путен\", u\"блэт\", u\"нэвэльный\", u\"россея\", u\"фак\", u\"рашка\", u\"сук \", u\"патимейкер\", u\"трешер\", u\"дратуте\", u\"зашквар\", u\"флексить\", u\"рофл\", u\"вейпер\", u\"хайп\", u\"эба\", u\"сап двач\", u\"оптимус гэнг\", u\"ауе\", u\"писос\", u\"краш\", u\"по фану\", u\"шерь\", u\"шерить\", u\"15 год\", u\"байт\", u\"шарю\", u\"шарить\", u\"ауф\", u\"шкура\", u\"тамблер герл\", u\"стафф\", u\"амахасла\", u\"трип\", u\"крип\", u\"ору\", u\"лакшери\", u\"гомункул\", u\"лампово\", u\"чсв\", u\"свитшот\", u\"тп\", u\"Бэкграунд\", u\"Потрачено\", u\"кк\", u\"шавуха\", u\"челендж\", u\"панч\", u\"жи есть\", u\"хаер\", u\"кун\", u\"баляховка\"]\n",
    "mat_words = [u\"бля\", u\"сука\", u\"хуй\", u\"ебать\", u\"пиздец\", u\"ахуенно\", u\"ебана\", u\"пиздато\"]\n",
    "shhh_words = [u\"щас\", u\"шо \", u\"ща \", u\"чо \", u\"изи\"]\n",
    "words.extend(mat_words)\n",
    "words.extend(shhh_words)\n",
    "words_count = {}\n",
    "every_words_count = {}\n",
    "\n",
    "def print_dict_sorted_by_value(name, dictionary, top):\n",
    "    print \"\\n\\n**\", name, \"**\"\n",
    "    for (key, value) in sorted(dictionary.items(), key=lambda x: x[1], reverse=True):\n",
    "        if value < top:\n",
    "            break\n",
    "        print key, \":\", value\n",
    "    print\n",
    "def every_word_count_in(sentence):\n",
    "    words = sentence.split()\n",
    "    for word in words:\n",
    "        if word in every_words_count:\n",
    "            every_words_count[word] += 1\n",
    "        else:\n",
    "            every_words_count[word] = 1\n",
    "\n",
    "\n",
    "class listener(StreamListener):\n",
    "    def on_data(self, data):\n",
    "        global count, last_count, words, words_count, step, first, end\n",
    "        checkout = step\n",
    "        data = json.loads(data)\n",
    "        last_count = count\n",
    "        text = data[\"text\"].lower()\n",
    "        every_word_count_in(text)\n",
    "        for word_name in words:\n",
    "            if word_name in text:\n",
    "                words_count[word_name] = words_count.get(word_name, 0) + 1\n",
    "                print count, word_name\n",
    "                count += 1\n",
    "        if last_count == count:\n",
    "            print \"No Words\"\n",
    "        if count > end:\n",
    "            print_dict_sorted_by_value(\"SLANG WORDS\", words_count, int(end/20))\n",
    "            print_dict_sorted_by_value(\"ALL WORDS\", every_words_count, int(end/20))\n",
    "            return False\n",
    "        if count > first:\n",
    "            first += step\n",
    "            print_dict_sorted_by_value(\"SLANG WORDS\", words_count, int(first/20))\n",
    "        return True\n",
    "\n",
    "    def on_error(self, status):\n",
    "        print(status)"
   ]
  },
  {
   "cell_type": "code",
   "execution_count": null,
   "metadata": {
    "collapsed": true
   },
   "outputs": [],
   "source": [
    "while True:\n",
    "    print(\"tick\")\n",
    "    twitterStream = Stream(auth, listener())\n",
    "    twitterStream.filter(track=words, async=True)\n",
    "    #print_dict_sorted_by_value(\"SLANG WORDS\", words_count, 1)\n",
    "    #print_dict_sorted_by_value(\"ALL WORDS\", every_words_count, 5)\n",
    "    break"
   ]
  },
  {
   "cell_type": "code",
   "execution_count": 41,
   "metadata": {
    "collapsed": true
   },
   "outputs": [],
   "source": [
    "words_df = pd.DataFrame(list(words_count.items())).sort_values(by=1, ascending=False)\n",
    "all_words_df = pd.DataFrame(list(every_words_count.items())).sort_values(by=1, ascending=False)"
   ]
  },
  {
   "cell_type": "code",
   "execution_count": null,
   "metadata": {
    "collapsed": true
   },
   "outputs": [],
   "source": [
    "words_df"
   ]
  },
  {
   "cell_type": "code",
   "execution_count": null,
   "metadata": {
    "collapsed": true
   },
   "outputs": [],
   "source": []
  }
 ],
 "metadata": {
  "kernelspec": {
   "display_name": "Python 2",
   "language": "python",
   "name": "python2"
  },
  "language_info": {
   "codemirror_mode": {
    "name": "ipython",
    "version": 2
   },
   "file_extension": ".py",
   "mimetype": "text/x-python",
   "name": "python",
   "nbconvert_exporter": "python",
   "pygments_lexer": "ipython2",
   "version": "2.7.10"
  }
 },
 "nbformat": 4,
 "nbformat_minor": 2
}
