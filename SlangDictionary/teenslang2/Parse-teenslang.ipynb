{
 "cells": [
  {
   "cell_type": "code",
   "execution_count": 69,
   "metadata": {},
   "outputs": [],
   "source": [
    "# coding=utf-8\n",
    "import numpy as np\n",
    "import os\n",
    "import pandas as pd\n",
    "import csv\n",
    "import sqlite3 as lite\n",
    "from bs4 import BeautifulSoup\n",
    "from selenium import webdriver\n",
    "from shutil import copyfile\n",
    "import requests\n",
    "teenslang_appwords_csv = \"teenslang2.csv\"\n",
    "test_dict_file = \"test_dict.csv\"\n",
    "rus_letters_numbers_path = \"rus_letters_numbers.npy\"\n",
    "\n",
    "all_words_links_path = 'links.npy'\n",
    "vsekidki_appwords_csv = \"vsekidki2\""
   ]
  },
  {
   "cell_type": "markdown",
   "metadata": {},
   "source": [
    "### Functions"
   ]
  },
  {
   "cell_type": "code",
   "execution_count": 47,
   "metadata": {},
   "outputs": [],
   "source": [
    "letter_links = ['http://teenslang.su/content/%D0%'+ letter \n",
    "                for letter in rus_letters_numbers[21:]]"
   ]
  },
  {
   "cell_type": "code",
   "execution_count": 48,
   "metadata": {},
   "outputs": [],
   "source": [
    "with open ('letter_links', 'w') as links_file:\n",
    "    links_file.write('\\n'.join(letter_links))"
   ]
  },
  {
   "cell_type": "code",
   "execution_count": 51,
   "metadata": {},
   "outputs": [],
   "source": [
    "!open ."
   ]
  },
  {
   "cell_type": "code",
   "execution_count": 50,
   "metadata": {},
   "outputs": [],
   "source": [
    "!wget https://teenslang.su/index.php?adv=1&settled=yes&in_titles=yes&in_titles_first=yes&in_variants=yes"
   ]
  },
  {
   "cell_type": "code",
   "execution_count": 49,
   "metadata": {
    "scrolled": true
   },
   "outputs": [
    {
     "name": "stdout",
     "output_type": "stream",
     "text": [
      "\n",
      "04/18 19:10:15 [\u001b[1;32mNOTICE\u001b[0m] Downloading 11 item(s)\n",
      "\n",
      "04/18 19:10:16 [\u001b[1;32mNOTICE\u001b[0m] CUID#9 - Redirecting to https://teenslang.su/content/%D0%A7\n",
      "\n",
      "04/18 19:10:16 [\u001b[1;32mNOTICE\u001b[0m] CUID#11 - Redirecting to https://teenslang.su/content/%D0%A9\n",
      "\n",
      "04/18 19:10:16 [\u001b[1;32mNOTICE\u001b[0m] CUID#7 - Redirecting to https://teenslang.su/content/%D0%A5\n",
      "\n",
      "04/18 19:10:16 [\u001b[1;32mNOTICE\u001b[0m] CUID#8 - Redirecting to https://teenslang.su/content/%D0%A6\n",
      "\n",
      "04/18 19:10:16 [\u001b[1;32mNOTICE\u001b[0m] CUID#10 - Redirecting to https://teenslang.su/content/%D0%A8\n",
      "\u001b[35m[\u001b[0mDL:\u001b[32m0B\u001b[0m\u001b[35m]\u001b[0m\u001b[35m[\u001b[0m#933f85 0B/0B\u001b[35m]\u001b[0m\u001b[35m[\u001b[0m#6aedeb 0B/0B\u001b[35m]\u001b[0m\u001b[35m[\u001b[0m#8677de 0B/0B\u001b[35m]\u001b[0m\u001b[35m[\u001b[0m#4c3573 0B/0B\u001b[35m]\u001b[0m\u001b[35m[\u001b[0m#72a7fc 0B/\u001b[0m\n",
      "04/18 19:10:17 [\u001b[1;32mNOTICE\u001b[0m] File already exists. Renamed to letter_links_pages/Х.1.\n",
      "\u001b[35m[\u001b[0mDL:\u001b[32m450KiB\u001b[0m\u001b[35m]\u001b[0m\u001b[35m[\u001b[0m#933f85 152KiB/0B\u001b[35m]\u001b[0m\u001b[35m[\u001b[0m#6aedeb 84KiB/0B\u001b[35m]\u001b[0m\u001b[35m[\u001b[0m#8677de 80KiB/0B\u001b[35m]\u001b[0m\u001b[35m[\u001b[0m#4c3573 80Ki\u001b[0m\n",
      "04/18 19:10:19 [\u001b[1;32mNOTICE\u001b[0m] Download complete: letter_links_pages/Х.1\n",
      "\n",
      "04/18 19:10:19 [\u001b[1;32mNOTICE\u001b[0m] Download complete: letter_links_pages/Щ\n",
      "\n",
      "04/18 19:10:19 [\u001b[1;32mNOTICE\u001b[0m] CUID#12 - Redirecting to https://teenslang.su/content/%D0%AA\n",
      "\n",
      "04/18 19:10:19 [\u001b[1;32mNOTICE\u001b[0m] CUID#13 - Redirecting to https://teenslang.su/content/%D0%AB\n",
      "\n",
      "04/18 19:10:19 [\u001b[1;32mNOTICE\u001b[0m] Download complete: letter_links_pages/Ц\n",
      "\n",
      "04/18 19:10:19 [\u001b[1;32mNOTICE\u001b[0m] Download complete: letter_links_pages/Ч\n",
      "\n",
      "04/18 19:10:19 [\u001b[1;32mNOTICE\u001b[0m] Download complete: letter_links_pages/Ш\n",
      "\n",
      "04/18 19:10:19 [\u001b[1;32mNOTICE\u001b[0m] CUID#14 - Redirecting to https://teenslang.su/content/%D0%AC\n",
      "\n",
      "04/18 19:10:19 [\u001b[1;32mNOTICE\u001b[0m] CUID#15 - Redirecting to https://teenslang.su/content/%D0%AD\n",
      "\n",
      "04/18 19:10:19 [\u001b[1;32mNOTICE\u001b[0m] CUID#16 - Redirecting to https://teenslang.su/content/%D0%AE\n",
      "\n",
      "04/18 19:10:19 [\u001b[1;32mNOTICE\u001b[0m] Download complete: letter_links_pages/Ъ\n",
      "\n",
      "04/18 19:10:19 [\u001b[1;32mNOTICE\u001b[0m] CUID#17 - Redirecting to https://teenslang.su/content/%D0%AF\n",
      "\n",
      "04/18 19:10:19 [\u001b[1;32mNOTICE\u001b[0m] Download complete: letter_links_pages/Ы\n",
      "\n",
      "04/18 19:10:20 [\u001b[1;32mNOTICE\u001b[0m] Download complete: letter_links_pages/Ь\n",
      "\u001b[35m[\u001b[0mDL:\u001b[32m665KiB\u001b[0m\u001b[35m]\u001b[0m\u001b[35m[\u001b[0m#61039f 48KiB/0B\u001b[35m]\u001b[0m\u001b[35m[\u001b[0m#c56ba0 48KiB/0B\u001b[35m]\u001b[0m\u001b[35m[\u001b[0m#b0d729 56KiB/0B\u001b[35m]\u001b[0m\u001b[0m\n",
      "04/18 19:10:20 [\u001b[1;32mNOTICE\u001b[0m] Download complete: letter_links_pages/Э\n",
      "\n",
      "04/18 19:10:20 [\u001b[1;32mNOTICE\u001b[0m] Download complete: letter_links_pages/Ю\n",
      "\n",
      "04/18 19:10:20 [\u001b[1;32mNOTICE\u001b[0m] Download complete: letter_links_pages/Я\n",
      "\n",
      "Download Results:\n",
      "gid   |stat|avg speed  |path/URI\n",
      "======+====+===========+=======================================================\n",
      "933f85|\u001b[1;32mOK\u001b[0m  |    60KiB/s|letter_links_pages/Х.1\n",
      "72a7fc|\u001b[1;32mOK\u001b[0m  |    52KiB/s|letter_links_pages/Щ\n",
      "6aedeb|\u001b[1;32mOK\u001b[0m  |    53KiB/s|letter_links_pages/Ц\n",
      "8677de|\u001b[1;32mOK\u001b[0m  |    55KiB/s|letter_links_pages/Ч\n",
      "4c3573|\u001b[1;32mOK\u001b[0m  |    52KiB/s|letter_links_pages/Ш\n",
      "9e4316|\u001b[1;32mOK\u001b[0m  |   127KiB/s|letter_links_pages/Ъ\n",
      "0e464e|\u001b[1;32mOK\u001b[0m  |   180KiB/s|letter_links_pages/Ы\n",
      "42e7df|\u001b[1;32mOK\u001b[0m  |   109KiB/s|letter_links_pages/Ь\n",
      "61039f|\u001b[1;32mOK\u001b[0m  |   176KiB/s|letter_links_pages/Э\n",
      "c56ba0|\u001b[1;32mOK\u001b[0m  |   167KiB/s|letter_links_pages/Ю\n",
      "b0d729|\u001b[1;32mOK\u001b[0m  |   205KiB/s|letter_links_pages/Я\n",
      "\n",
      "Status Legend:\n",
      "(OK):download completed.\n"
     ]
    }
   ],
   "source": [
    "!aria2c -i letter_links -d letter_links_pages --continue=true"
   ]
  },
  {
   "cell_type": "code",
   "execution_count": null,
   "metadata": {},
   "outputs": [],
   "source": []
  },
  {
   "cell_type": "code",
   "execution_count": 78,
   "metadata": {},
   "outputs": [],
   "source": [
    "words_dict = []\n",
    "# page_count = 10\n",
    "pages_dir = '/Users/lotfull/Desktop/Teenslang-Scrapping/adv_pages/'\n",
    "for page in os.listdir(pages_dir):\n",
    "    with open(pages_dir + page, 'r') as word_page_file:\n",
    "#     with open('/Users/lotfull/Desktop/Teenslang-Scrapping/adv_pages/adv_{}.html'.format(i), 'r') as word_page_file:\n",
    "        word_page = word_page_file.read()\n",
    "    soup = BeautifulSoup(word_page, \"lxml\")\n",
    "    table = soup.find('div', class_='visible-xs visible-md visible-sm visible-lg col-lg-6')\n",
    "    if not hasattr(table, 'find_all'):\n",
    "        print('Skip {}'.format(page))\n",
    "    else:\n",
    "        words = table.find_all('div', class_='issueword1')\n",
    "        for word_row in words:\n",
    "            word_name = Text_from_html_object(str(word_row.find('span', class_='cap')))\n",
    "            word_type = Text_from_html_object(str(word_row.find('span', class_='sta')))\n",
    "            word_group = Text_from_html_object(str(word_row.find('span', class_='sph')))\n",
    "            word_def = Text_from_html_object(str(word_row.find('span', class_='mea')))\n",
    "            word_example = Text_from_html_object(str(word_row.find('span', class_='text')))\n",
    "            word_story = Text_from_html_arr(word_row.find_all('div', class_='category'))\n",
    "            word_hash = Text_from_html_object(str(word_row.find('span', class_='src')))\n",
    "            word_syn = Text_from_html_object(str(word_row.find('span', class_='syn')))\n",
    "            words_dict.append({\n",
    "                'num': i,\n",
    "                'name': brush(word_name),\n",
    "                'definition': word_def,\n",
    "                'type': \" \" if word_type == \"NonNone\" else word_type,\n",
    "                'group': \" \" if word_group == \"NonNone\" else word_group,\n",
    "                'examples': \" \" if word_example == \"NonNone\" else word_example,\n",
    "                'origin': \" \" if word_story == \"NonNone\" else word_story,\n",
    "                'hashtags': \" \" if word_hash == \"NonNone\" else word_hash,\n",
    "                'synonyms': \" \" if word_syn == \"NonNone\" else word_syn \n",
    "            })"
   ]
  },
  {
   "cell_type": "code",
   "execution_count": 99,
   "metadata": {},
   "outputs": [
    {
     "data": {
      "text/html": [
       "<div>\n",
       "<style scoped>\n",
       "    .dataframe tbody tr th:only-of-type {\n",
       "        vertical-align: middle;\n",
       "    }\n",
       "\n",
       "    .dataframe tbody tr th {\n",
       "        vertical-align: top;\n",
       "    }\n",
       "\n",
       "    .dataframe thead th {\n",
       "        text-align: right;\n",
       "    }\n",
       "</style>\n",
       "<table border=\"1\" class=\"dataframe\">\n",
       "  <thead>\n",
       "    <tr style=\"text-align: right;\">\n",
       "      <th></th>\n",
       "      <th>definition</th>\n",
       "      <th>examples</th>\n",
       "      <th>group</th>\n",
       "      <th>hashtags</th>\n",
       "      <th>name</th>\n",
       "      <th>origin</th>\n",
       "      <th>synonyms</th>\n",
       "      <th>type</th>\n",
       "    </tr>\n",
       "  </thead>\n",
       "  <tbody>\n",
       "    <tr>\n",
       "      <th>0</th>\n",
       "      <td>Полимерные композиционные материалы.</td>\n",
       "      <td>В прошлом веке были изобретены такие ПКМ как р...</td>\n",
       "      <td>(технология, производство)</td>\n",
       "      <td>XIX век.</td>\n",
       "      <td>Пкм</td>\n",
       "      <td>#Общие</td>\n",
       "      <td></td>\n",
       "      <td>существительное, Аббревиатура</td>\n",
       "    </tr>\n",
       "    <tr>\n",
       "      <th>1</th>\n",
       "      <td>это слово говорит человек, находящимся в состо...</td>\n",
       "      <td>в разговоре:\\n- тебе как?\\n- мне плавно))).</td>\n",
       "      <td>(в компании)</td>\n",
       "      <td>когда всё вокруг медленно и классно. и ты конс...</td>\n",
       "      <td>Плавно</td>\n",
       "      <td></td>\n",
       "      <td>развозит.</td>\n",
       "      <td>прил., с.р.</td>\n",
       "    </tr>\n",
       "    <tr>\n",
       "      <th>2</th>\n",
       "      <td>Частный случай физрука, руководит занятиями пл...</td>\n",
       "      <td></td>\n",
       "      <td>(школьники, студенты, спортсмены)</td>\n",
       "      <td>ПЛАВание + РУКоводитель.</td>\n",
       "      <td>Плаврук</td>\n",
       "      <td>#Общие</td>\n",
       "      <td></td>\n",
       "      <td>сущ., м. р.</td>\n",
       "    </tr>\n",
       "    <tr>\n",
       "      <th>3</th>\n",
       "      <td>человек который поставляет тебе наркотики.</td>\n",
       "      <td>\"Мой плаг - нарколог\"\\n(Gone Fludd - Lame Shit).</td>\n",
       "      <td>(употребляющие)</td>\n",
       "      <td></td>\n",
       "      <td>Плаг</td>\n",
       "      <td></td>\n",
       "      <td></td>\n",
       "      <td>сущ. м.р.</td>\n",
       "    </tr>\n",
       "    <tr>\n",
       "      <th>4</th>\n",
       "      <td>В серии МегаМен Боевые сети встречается поняти...</td>\n",
       "      <td>После того как дошли до двери Плаг-Интесь и вы...</td>\n",
       "      <td>(геймеры)</td>\n",
       "      <td>Plug-in - подключение к сети (англ.).</td>\n",
       "      <td>Плаг-инить</td>\n",
       "      <td>#Геймеры</td>\n",
       "      <td>Врубаться в BBS.</td>\n",
       "      <td>сущ.</td>\n",
       "    </tr>\n",
       "  </tbody>\n",
       "</table>\n",
       "</div>"
      ],
      "text/plain": [
       "                                          definition  \\\n",
       "0               Полимерные композиционные материалы.   \n",
       "1  это слово говорит человек, находящимся в состо...   \n",
       "2  Частный случай физрука, руководит занятиями пл...   \n",
       "3         человек который поставляет тебе наркотики.   \n",
       "4  В серии МегаМен Боевые сети встречается поняти...   \n",
       "\n",
       "                                            examples  \\\n",
       "0  В прошлом веке были изобретены такие ПКМ как р...   \n",
       "1       в разговоре:\\n- тебе как?\\n- мне плавно))).    \n",
       "2                                                      \n",
       "3  \"Мой плаг - нарколог\"\\n(Gone Fludd - Lame Shit).    \n",
       "4  После того как дошли до двери Плаг-Интесь и вы...   \n",
       "\n",
       "                               group  \\\n",
       "0         (технология, производство)   \n",
       "1                       (в компании)   \n",
       "2  (школьники, студенты, спортсмены)   \n",
       "3                    (употребляющие)   \n",
       "4                          (геймеры)   \n",
       "\n",
       "                                            hashtags        name     origin  \\\n",
       "0                                           XIX век.         Пкм    #Общие    \n",
       "1  когда всё вокруг медленно и классно. и ты конс...      Плавно              \n",
       "2                           ПЛАВание + РУКоводитель.     Плаврук    #Общие    \n",
       "3                                                           Плаг              \n",
       "4              Plug-in - подключение к сети (англ.).  Плаг-инить  #Геймеры    \n",
       "\n",
       "           synonyms                            type  \n",
       "0                    существительное, Аббревиатура   \n",
       "1         развозит.                    прил., с.р.   \n",
       "2                                      сущ., м. р.   \n",
       "3                                        сущ. м.р.   \n",
       "4  Врубаться в BBS.                           сущ.   "
      ]
     },
     "execution_count": 99,
     "metadata": {},
     "output_type": "execute_result"
    }
   ],
   "source": [
    "teenslang2 = 'teenslang2.csv'\n",
    "words = pd.DataFrame(words_dict)\n",
    "words = words.drop('num', axis=1)\n",
    "words.drop_duplicates(inplace=True, keep='first')\n",
    "words.to_csv(teenslang2, index=False)\n",
    "words.head()"
   ]
  },
  {
   "cell_type": "code",
   "execution_count": 100,
   "metadata": {},
   "outputs": [
    {
     "data": {
      "text/plain": [
       "26203"
      ]
     },
     "execution_count": 100,
     "metadata": {},
     "output_type": "execute_result"
    }
   ],
   "source": [
    "len(words)"
   ]
  },
  {
   "cell_type": "code",
   "execution_count": null,
   "metadata": {},
   "outputs": [],
   "source": []
  },
  {
   "cell_type": "code",
   "execution_count": 81,
   "metadata": {},
   "outputs": [],
   "source": [
    "def Text_from_html_object(text):\n",
    "    start = text.find(\"<\")\n",
    "    finish = text.find(\">\")\n",
    "    text = text[:start] + text[finish + 1:]\n",
    "    check_for_tag = text.find('<', start)\n",
    "    while check_for_tag != -1:\n",
    "            end_of_tag = text.find('>', check_for_tag)\n",
    "            text = text[:check_for_tag] + text[end_of_tag + 1:]\n",
    "            check_for_tag = text.find('<', check_for_tag)\n",
    "    return text\n",
    "\n",
    "def Text_from_html_arr(arr):\n",
    "    answer_text = ''\n",
    "    for object in arr:\n",
    "        text = str(object)\n",
    "        check_for_tag = text.find('<')\n",
    "        while check_for_tag != -1:\n",
    "            end_of_tag = text.find('>', check_for_tag)\n",
    "            text = text[:check_for_tag] + text[end_of_tag + 1:]\n",
    "            check_for_tag = text.find('<', check_for_tag)\n",
    "        answer_text += text\n",
    "    return answer_text\n",
    "\n",
    "def get_page_count(soup):\n",
    "    list_of_pages = soup.find_all('a', class_='page_number')\n",
    "    try:\n",
    "        last_page = list_of_pages[-2]\n",
    "    except IndexError:\n",
    "        return 1\n",
    "    last_number = Text_from_html_object(str(last_page))\n",
    "    return int(last_number)\n",
    "\n",
    "def take_rus_letters_numbers(soup):\n",
    "    links = []\n",
    "    list_of_links = soup.find_all('a', class_='alph_menu')\n",
    "    for link in list_of_links:\n",
    "        pos = int(str(link).find(\"%D0%\")) + 4\n",
    "        name = str(str(link)[pos:pos+2])\n",
    "        if name != \"81\":\n",
    "            links.append(name)\n",
    "    return links\n",
    "\n",
    "def make_save(path):\n",
    "    with open(path, 'w') as csvfile:\n",
    "        writer = csv.writer(csvfile)\n",
    "        writer.writerow(('name', 'definition', 'type', 'group', 'examples', 'origin', 'hashtags', 'synonyms'))\n",
    "\n",
    "def add_to_save(dictionary, path):\n",
    "    with open(path, 'a') as csvfile:\n",
    "        writer = csv.writer(csvfile)\n",
    "        for word in dictionary:\n",
    "            writer.writerow((word['name'], word['definition'], word['type'],\n",
    "                             word['examples'], word['origin'], word['hashtags'], word['synonyms']))\n",
    "            \n",
    "\n",
    "    \n",
    "# and then rename mycsv.out to mycsv.csv if you wish.\n",
    "\n",
    "def get_words_from_Teenslang(from_i, to_i, file):\n",
    "    make_save(file)\n",
    "    for j in range(from_i, to_i + 1):\n",
    "        driver.get('http://teenslang.su/content/%D0%'+ rus_letters_numbers[j]) # download site to the Selenium\n",
    "        html = driver.page_source # saving site source\n",
    "        soup = BeautifulSoup(html, \"lxml\")\n",
    "        page_count = get_page_count(soup)\n",
    "        print('Буква алфавита № ' + str(j + 1) + ': ')\n",
    "        dict = []\n",
    "        for i in range(page_count):\n",
    "            if i > 0:\n",
    "                driver.get('http://teenslang.su/?page=' + str(i) + '&content=%D0%'+ rus_letters_numbers[j] + '*') # load sites\n",
    "                html = driver.page_source # saving site source\n",
    "                soup = BeautifulSoup(html, \"lxml\")\n",
    "            print('Парсинг %d из %d' % (i + 1, page_count))\n",
    "            table = soup.find('div', class_='visible-xs visible-md visible-sm visible-lg col-lg-6')\n",
    "            words = table.find_all('div', class_='issueword1')\n",
    "            for word_row in words:\n",
    "                word_name = Text_from_html_object(str(word_row.find('span', class_='cap')))\n",
    "                word_type = Text_from_html_object(str(word_row.find('span', class_='sta')))\n",
    "                word_group = Text_from_html_object(str(word_row.find('span', class_='sph')))\n",
    "                word_def = Text_from_html_object(str(word_row.find('span', class_='mea')))\n",
    "                word_example = Text_from_html_object(str(word_row.find('span', class_='text')))\n",
    "                word_story = Text_from_html_arr(word_row.find_all('div', class_='category'))\n",
    "                word_hash = Text_from_html_object(str(word_row.find('span', class_='src')))\n",
    "                word_syn = Text_from_html_object(str(word_row.find('span', class_='syn')))\n",
    "                dict.append({\n",
    "                    'num': i,\n",
    "                    'name': brush(word_name),\n",
    "                    'definition': word_def,\n",
    "                    'type': \" \" if word_type == \"NonNone\" else word_type,\n",
    "                    'group': \" \" if word_group == \"NonNone\" else word_group,\n",
    "                    'examples': \" \" if word_example == \"NonNone\" else word_example,\n",
    "                    'origin': \" \" if word_story == \"NonNone\" else word_story,\n",
    "                    'hashtags': \" \" if word_hash == \"NonNone\" else word_hash,\n",
    "                    'synonyms': \" \" if word_syn == \"NonNone\" else word_syn \n",
    "                })\n",
    "        add_to_save(dict, file)\n",
    "    fulldict = pd.read_csv(file)\n",
    "    fulldict.drop_duplicates(keep='first')\n",
    "    print(\"!!!!!!!!!!!ВСЕ!!!!!!!!!!\")\n",
    "            \n",
    "        \n",
    "def get_rus_letters_numbers():\n",
    "    driver.get(\"http://teenslang.su/content/%D0%90\")\n",
    "    html = driver.page_source # saving site source\n",
    "    soup = BeautifulSoup(html, \"lxml\")\n",
    "    rus_letters_numbers = take_rus_letters_numbers(soup)\n",
    "    return rus_letters_numbers\n",
    "\n",
    "def brush(x):\n",
    "    return x.capitalize().strip()\n",
    "\n",
    "def print_dict_sorted_by_value(dictionary):\n",
    "    for (key, value) in sorted(dictionary.items(), key=lambda x: x[1], reverse=True):\n",
    "        print(key, \": \", value, sep='')\n",
    "        \n",
    "def load_webdriver():\n",
    "    global driver\n",
    "    options = webdriver.ChromeOptions()\n",
    "    options.binary_location = '/Applications/Google Chrome Canary.app/Contents/MacOS/Google Chrome Canary'\n",
    "    options.add_argument('window-size=800x841')\n",
    "    options.add_argument('headless')\n",
    "    driver = webdriver.Chrome('/Users/lotfull/chromedriver', chrome_options=options)\n",
    "#     webdriver_path = \"/Users/lotfull/phantomjs/bin/phantomjs\"\n",
    "#     driver = webdriver.PhantomJS(webdriver_path)\n",
    "        \n",
    "def load_rus_letters_numbers():\n",
    "    global rus_letters_numbers\n",
    "    if os.path.isfile(rus_letters_numbers_path):\n",
    "        rus_letters_numbers = np.load(rus_letters_numbers_path).tolist()\n",
    "    else:\n",
    "        rus_letters_numbers = get_rus_letters_numbers()\n",
    "        np.save(rus_letters_numbers_path, rus_letters_numbers)\n",
    "        "
   ]
  },
  {
   "cell_type": "markdown",
   "metadata": {},
   "source": [
    "#### Load PhantomJS webdriver, (load from driver)/(download) numbers of Russian letters used in teenslang"
   ]
  },
  {
   "cell_type": "code",
   "execution_count": 16,
   "metadata": {},
   "outputs": [
    {
     "name": "stderr",
     "output_type": "stream",
     "text": [
      "/Users/lotfull/venvs/ml_venv/lib/python3.6/site-packages/ipykernel_launcher.py:122: DeprecationWarning: use options instead of chrome_options\n"
     ]
    }
   ],
   "source": [
    "load_webdriver()"
   ]
  },
  {
   "cell_type": "code",
   "execution_count": 17,
   "metadata": {},
   "outputs": [],
   "source": [
    "load_rus_letters_numbers()"
   ]
  },
  {
   "cell_type": "markdown",
   "metadata": {},
   "source": [
    "### test sample for letter \"Й\""
   ]
  },
  {
   "cell_type": "code",
   "execution_count": 13,
   "metadata": {},
   "outputs": [
    {
     "name": "stdout",
     "output_type": "stream",
     "text": [
      "Буква алфавита № 10: \n",
      "Парсинг 1 из 1\n",
      "!!!!!!!!!!!ВСЕ!!!!!!!!!!\n"
     ]
    },
    {
     "data": {
      "text/html": [
       "<div>\n",
       "<style scoped>\n",
       "    .dataframe tbody tr th:only-of-type {\n",
       "        vertical-align: middle;\n",
       "    }\n",
       "\n",
       "    .dataframe tbody tr th {\n",
       "        vertical-align: top;\n",
       "    }\n",
       "\n",
       "    .dataframe thead th {\n",
       "        text-align: right;\n",
       "    }\n",
       "</style>\n",
       "<table border=\"1\" class=\"dataframe\">\n",
       "  <thead>\n",
       "    <tr style=\"text-align: right;\">\n",
       "      <th></th>\n",
       "      <th>name</th>\n",
       "      <th>definition</th>\n",
       "      <th>type</th>\n",
       "      <th>group</th>\n",
       "      <th>examples</th>\n",
       "      <th>origin</th>\n",
       "      <th>hashtags</th>\n",
       "      <th>synonyms</th>\n",
       "    </tr>\n",
       "  </thead>\n",
       "  <tbody>\n",
       "    <tr>\n",
       "      <th>0</th>\n",
       "      <td>Йа</td>\n",
       "      <td>я.</td>\n",
       "      <td>местоимение</td>\n",
       "      <td>Йа так устала!  • Когда йа была маленькой дево...</td>\n",
       "      <td>#Падонки</td>\n",
       "      <td></td>\n",
       "      <td></td>\n",
       "      <td>NaN</td>\n",
       "    </tr>\n",
       "    <tr>\n",
       "      <th>1</th>\n",
       "      <td>Йа креведко</td>\n",
       "      <td>я знаю олбанский язык, но не совсем понимаю, о...</td>\n",
       "      <td></td>\n",
       "      <td></td>\n",
       "      <td>#Падонки</td>\n",
       "      <td></td>\n",
       "      <td>я чайник, прикидываюсь шлангом, шлангую, йа кр...</td>\n",
       "      <td>NaN</td>\n",
       "    </tr>\n",
       "    <tr>\n",
       "      <th>2</th>\n",
       "      <td>Йааазь</td>\n",
       "      <td>язь, название рыбы.</td>\n",
       "      <td>-я, м.</td>\n",
       "      <td>Вот она! Вот она рыба моей мечты: здоровенный ...</td>\n",
       "      <td>#Интернет</td>\n",
       "      <td>Из  любительского видеоролика, который оказалс...</td>\n",
       "      <td>йаазь, йазь, язззь</td>\n",
       "      <td>NaN</td>\n",
       "    </tr>\n",
       "  </tbody>\n",
       "</table>\n",
       "</div>"
      ],
      "text/plain": [
       "          name                                         definition  \\\n",
       "0           Йа                                                 я.   \n",
       "1  Йа креведко  я знаю олбанский язык, но не совсем понимаю, о...   \n",
       "2       Йааазь                                язь, название рыбы.   \n",
       "\n",
       "          type                                              group    examples  \\\n",
       "0  местоимение  Йа так устала!  • Когда йа была маленькой дево...   #Падонки    \n",
       "1                                                                   #Падонки    \n",
       "2      -я, м.   Вот она! Вот она рыба моей мечты: здоровенный ...  #Интернет    \n",
       "\n",
       "                                              origin  \\\n",
       "0                                                      \n",
       "1                                                      \n",
       "2  Из  любительского видеоролика, который оказалс...   \n",
       "\n",
       "                                            hashtags  synonyms  \n",
       "0                                                          NaN  \n",
       "1  я чайник, прикидываюсь шлангом, шлангую, йа кр...       NaN  \n",
       "2                                 йаазь, йазь, язззь       NaN  "
      ]
     },
     "execution_count": 13,
     "metadata": {},
     "output_type": "execute_result"
    }
   ],
   "source": [
    "get_words_from_Teenslang(from_i=9, to_i=9, file=test_dict_file)\n",
    "test_dict = pd.read_csv(test_dict_file)\n",
    "test_dict.head(3)"
   ]
  },
  {
   "cell_type": "markdown",
   "metadata": {},
   "source": [
    "### All words to DataFrame"
   ]
  },
  {
   "cell_type": "code",
   "execution_count": 10,
   "metadata": {
    "scrolled": true
   },
   "outputs": [
    {
     "data": {
      "text/html": [
       "<div>\n",
       "<style scoped>\n",
       "    .dataframe tbody tr th:only-of-type {\n",
       "        vertical-align: middle;\n",
       "    }\n",
       "\n",
       "    .dataframe tbody tr th {\n",
       "        vertical-align: top;\n",
       "    }\n",
       "\n",
       "    .dataframe thead th {\n",
       "        text-align: right;\n",
       "    }\n",
       "</style>\n",
       "<table border=\"1\" class=\"dataframe\">\n",
       "  <thead>\n",
       "    <tr style=\"text-align: right;\">\n",
       "      <th></th>\n",
       "      <th>name</th>\n",
       "      <th>definition</th>\n",
       "      <th>type</th>\n",
       "      <th>group</th>\n",
       "      <th>examples</th>\n",
       "      <th>hashtags</th>\n",
       "      <th>origin</th>\n",
       "      <th>synonyms</th>\n",
       "      <th>id</th>\n",
       "    </tr>\n",
       "  </thead>\n",
       "  <tbody>\n",
       "    <tr>\n",
       "      <th>0</th>\n",
       "      <td>А сегодня я покакал</td>\n",
       "      <td>Предложение, показывающие безразличие к тому ч...</td>\n",
       "      <td>словосочетание</td>\n",
       "      <td>(Анонимы, тролли, хикки)</td>\n",
       "      <td>-Где можно обсудить проблемы кишечника?\\n-В /p...</td>\n",
       "      <td>#Социальныесети</td>\n",
       "      <td>(происхождение второго значения) раздел был до...</td>\n",
       "      <td>_</td>\n",
       "      <td>1</td>\n",
       "    </tr>\n",
       "    <tr>\n",
       "      <th>1</th>\n",
       "      <td>А то</td>\n",
       "      <td>да — выражения подтверждения.</td>\n",
       "      <td>союз и частица</td>\n",
       "      <td>NaN</td>\n",
       "      <td>— Ты знаешь такого чела...? — А то!!!</td>\n",
       "      <td>NaN</td>\n",
       "      <td>NaN</td>\n",
       "      <td>да.</td>\n",
       "      <td>2</td>\n",
       "    </tr>\n",
       "    <tr>\n",
       "      <th>2</th>\n",
       "      <td>Абаля</td>\n",
       "      <td>вот это конфуз!.</td>\n",
       "      <td>NaN</td>\n",
       "      <td>NaN</td>\n",
       "      <td>NaN</td>\n",
       "      <td>NaN</td>\n",
       "      <td>NaN</td>\n",
       "      <td>_</td>\n",
       "      <td>3</td>\n",
       "    </tr>\n",
       "  </tbody>\n",
       "</table>\n",
       "</div>"
      ],
      "text/plain": [
       "                  name                                         definition  \\\n",
       "0  А сегодня я покакал  Предложение, показывающие безразличие к тому ч...   \n",
       "1                 А то                      да — выражения подтверждения.   \n",
       "2                Абаля                                   вот это конфуз!.   \n",
       "\n",
       "              type                     group  \\\n",
       "0  словосочетание   (Анонимы, тролли, хикки)   \n",
       "1   союз и частица                       NaN   \n",
       "2              NaN                       NaN   \n",
       "\n",
       "                                            examples          hashtags  \\\n",
       "0  -Где можно обсудить проблемы кишечника?\\n-В /p...  #Социальныесети    \n",
       "1             — Ты знаешь такого чела...? — А то!!!                NaN   \n",
       "2                                                NaN               NaN   \n",
       "\n",
       "                                              origin synonyms  id  \n",
       "0  (происхождение второго значения) раздел был до...        _   1  \n",
       "1                                                NaN      да.   2  \n",
       "2                                                NaN        _   3  "
      ]
     },
     "execution_count": 10,
     "metadata": {},
     "output_type": "execute_result"
    }
   ],
   "source": [
    "teenslang_df = pd.read_csv(teenslang_appwords_csv)\n",
    "teenslang_df.head(3)"
   ]
  },
  {
   "cell_type": "markdown",
   "metadata": {},
   "source": [
    "#### Replace value of Dataframe\n",
    "df.replace(\"#Общие \", np.nan)"
   ]
  },
  {
   "cell_type": "code",
   "execution_count": 11,
   "metadata": {},
   "outputs": [
    {
     "data": {
      "text/plain": [
       "16780"
      ]
     },
     "execution_count": 11,
     "metadata": {},
     "output_type": "execute_result"
    }
   ],
   "source": [
    "len(teenslang_df)"
   ]
  },
  {
   "cell_type": "markdown",
   "metadata": {},
   "source": [
    "### Inserting ID column"
   ]
  },
  {
   "cell_type": "code",
   "execution_count": 44,
   "metadata": {
    "scrolled": true
   },
   "outputs": [
    {
     "data": {
      "text/html": [
       "<div>\n",
       "<style>\n",
       "    .dataframe thead tr:only-child th {\n",
       "        text-align: right;\n",
       "    }\n",
       "\n",
       "    .dataframe thead th {\n",
       "        text-align: left;\n",
       "    }\n",
       "\n",
       "    .dataframe tbody tr th {\n",
       "        vertical-align: top;\n",
       "    }\n",
       "</style>\n",
       "<table border=\"1\" class=\"dataframe\">\n",
       "  <thead>\n",
       "    <tr style=\"text-align: right;\">\n",
       "      <th></th>\n",
       "      <th>name</th>\n",
       "      <th>definition</th>\n",
       "      <th>type</th>\n",
       "      <th>group</th>\n",
       "      <th>examples</th>\n",
       "      <th>hashtags</th>\n",
       "      <th>origin</th>\n",
       "      <th>synonyms</th>\n",
       "      <th>id</th>\n",
       "    </tr>\n",
       "  </thead>\n",
       "  <tbody>\n",
       "    <tr>\n",
       "      <th>0</th>\n",
       "      <td>А сегодня я покакал</td>\n",
       "      <td>Предложение, показывающие безразличие к тому ч...</td>\n",
       "      <td>словосочетание</td>\n",
       "      <td>(Анонимы, тролли, хикки)</td>\n",
       "      <td>-Где можно обсудить проблемы кишечника?\\n-В /p...</td>\n",
       "      <td>#Социальныесети</td>\n",
       "      <td>(происхождение второго значения) раздел был до...</td>\n",
       "      <td>_</td>\n",
       "      <td>1</td>\n",
       "    </tr>\n",
       "  </tbody>\n",
       "</table>\n",
       "</div>"
      ],
      "text/plain": [
       "                  name                                         definition  \\\n",
       "0  А сегодня я покакал  Предложение, показывающие безразличие к тому ч...   \n",
       "\n",
       "              type                     group  \\\n",
       "0  словосочетание   (Анонимы, тролли, хикки)   \n",
       "\n",
       "                                            examples          hashtags  \\\n",
       "0  -Где можно обсудить проблемы кишечника?\\n-В /p...  #Социальныесети    \n",
       "\n",
       "                                              origin synonyms  id  \n",
       "0  (происхождение второго значения) раздел был до...        _   1  "
      ]
     },
     "execution_count": 44,
     "metadata": {},
     "output_type": "execute_result"
    }
   ],
   "source": [
    "teenslang_df[\"id\"] = teenslang_df.index + 1\n",
    "teenslang_df.head(1)"
   ]
  },
  {
   "cell_type": "markdown",
   "metadata": {},
   "source": [
    "### Save to CSV"
   ]
  },
  {
   "cell_type": "code",
   "execution_count": 27,
   "metadata": {
    "collapsed": true
   },
   "outputs": [],
   "source": [
    "teenslang_df.to_csv(teenslang_appwords_csv, index=False)"
   ]
  },
  {
   "cell_type": "markdown",
   "metadata": {},
   "source": [
    "### Find by name"
   ]
  },
  {
   "cell_type": "code",
   "execution_count": 70,
   "metadata": {},
   "outputs": [
    {
     "data": {
      "text/html": [
       "<div>\n",
       "<style>\n",
       "    .dataframe thead tr:only-child th {\n",
       "        text-align: right;\n",
       "    }\n",
       "\n",
       "    .dataframe thead th {\n",
       "        text-align: left;\n",
       "    }\n",
       "\n",
       "    .dataframe tbody tr th {\n",
       "        vertical-align: top;\n",
       "    }\n",
       "</style>\n",
       "<table border=\"1\" class=\"dataframe\">\n",
       "  <thead>\n",
       "    <tr style=\"text-align: right;\">\n",
       "      <th></th>\n",
       "      <th>name</th>\n",
       "      <th>definition</th>\n",
       "      <th>type</th>\n",
       "      <th>group</th>\n",
       "      <th>examples</th>\n",
       "      <th>hashtags</th>\n",
       "      <th>origin</th>\n",
       "      <th>synonyms</th>\n",
       "      <th>id</th>\n",
       "    </tr>\n",
       "  </thead>\n",
       "  <tbody>\n",
       "    <tr>\n",
       "      <th>16937</th>\n",
       "      <td>Шарить</td>\n",
       "      <td>хорошо разбираться в чем-либо, понимать.</td>\n",
       "      <td>несов. перех.</td>\n",
       "      <td>NaN</td>\n",
       "      <td>Он здорово шарит в компах!  • Автор не шарит в...</td>\n",
       "      <td>#Общие</td>\n",
       "      <td>NaN</td>\n",
       "      <td>рубить.</td>\n",
       "      <td>16938</td>\n",
       "    </tr>\n",
       "    <tr>\n",
       "      <th>16938</th>\n",
       "      <td>Шарить</td>\n",
       "      <td>Разбираться в мемах, в моде, в том, что популя...</td>\n",
       "      <td>н.ф. глагол</td>\n",
       "      <td>(Интернет)</td>\n",
       "      <td>Я шарю.</td>\n",
       "      <td>#Социальныесети</td>\n",
       "      <td>NaN</td>\n",
       "      <td>_</td>\n",
       "      <td>16939</td>\n",
       "    </tr>\n",
       "  </tbody>\n",
       "</table>\n",
       "</div>"
      ],
      "text/plain": [
       "         name                                         definition  \\\n",
       "16937  Шарить           хорошо разбираться в чем-либо, понимать.   \n",
       "16938  Шарить  Разбираться в мемах, в моде, в том, что популя...   \n",
       "\n",
       "                type       group  \\\n",
       "16937  несов. перех.         NaN   \n",
       "16938   н.ф. глагол   (Интернет)   \n",
       "\n",
       "                                                examples          hashtags  \\\n",
       "16937  Он здорово шарит в компах!  • Автор не шарит в...           #Общие    \n",
       "16938                                           Я шарю.   #Социальныесети    \n",
       "\n",
       "      origin synonyms     id  \n",
       "16937    NaN  рубить.  16938  \n",
       "16938    NaN        _  16939  "
      ]
     },
     "execution_count": 70,
     "metadata": {},
     "output_type": "execute_result"
    }
   ],
   "source": [
    "teenslang_df[teenslang_df[\"name\"] == \"Шарить\"]"
   ]
  },
  {
   "cell_type": "markdown",
   "metadata": {},
   "source": [
    "### Drop column ID by name"
   ]
  },
  {
   "cell_type": "code",
   "execution_count": 43,
   "metadata": {},
   "outputs": [
    {
     "data": {
      "text/html": [
       "<div>\n",
       "<style>\n",
       "    .dataframe thead tr:only-child th {\n",
       "        text-align: right;\n",
       "    }\n",
       "\n",
       "    .dataframe thead th {\n",
       "        text-align: left;\n",
       "    }\n",
       "\n",
       "    .dataframe tbody tr th {\n",
       "        vertical-align: top;\n",
       "    }\n",
       "</style>\n",
       "<table border=\"1\" class=\"dataframe\">\n",
       "  <thead>\n",
       "    <tr style=\"text-align: right;\">\n",
       "      <th></th>\n",
       "      <th>name</th>\n",
       "      <th>definition</th>\n",
       "      <th>type</th>\n",
       "      <th>group</th>\n",
       "      <th>examples</th>\n",
       "      <th>hashtags</th>\n",
       "      <th>origin</th>\n",
       "      <th>synonyms</th>\n",
       "    </tr>\n",
       "  </thead>\n",
       "  <tbody>\n",
       "    <tr>\n",
       "      <th>0</th>\n",
       "      <td>А сегодня я покакал</td>\n",
       "      <td>Предложение, показывающие безразличие к тому ч...</td>\n",
       "      <td>словосочетание</td>\n",
       "      <td>(Анонимы, тролли, хикки)</td>\n",
       "      <td>-Где можно обсудить проблемы кишечника?\\n-В /p...</td>\n",
       "      <td>#Социальныесети</td>\n",
       "      <td>(происхождение второго значения) раздел был до...</td>\n",
       "      <td>_</td>\n",
       "    </tr>\n",
       "  </tbody>\n",
       "</table>\n",
       "</div>"
      ],
      "text/plain": [
       "                  name                                         definition  \\\n",
       "0  А сегодня я покакал  Предложение, показывающие безразличие к тому ч...   \n",
       "\n",
       "              type                     group  \\\n",
       "0  словосочетание   (Анонимы, тролли, хикки)   \n",
       "\n",
       "                                            examples          hashtags  \\\n",
       "0  -Где можно обсудить проблемы кишечника?\\n-В /p...  #Социальныесети    \n",
       "\n",
       "                                              origin synonyms  \n",
       "0  (происхождение второго значения) раздел был до...        _  "
      ]
     },
     "execution_count": 43,
     "metadata": {},
     "output_type": "execute_result"
    }
   ],
   "source": [
    "teenslang_df = teenslang_df.drop(\"id\", 1)\n",
    "teenslang_df.head(1)"
   ]
  },
  {
   "cell_type": "markdown",
   "metadata": {},
   "source": [
    "### Drop duplicates"
   ]
  },
  {
   "cell_type": "code",
   "execution_count": 88,
   "metadata": {},
   "outputs": [
    {
     "data": {
      "text/plain": [
       "16751"
      ]
     },
     "execution_count": 88,
     "metadata": {},
     "output_type": "execute_result"
    }
   ],
   "source": [
    "teenslang_df.drop_duplicates(inplace=True, keep='first')\n",
    "len(teenslang_df)"
   ]
  },
  {
   "cell_type": "markdown",
   "metadata": {},
   "source": [
    "### Repeating with Vsekidki_dict"
   ]
  },
  {
   "cell_type": "code",
   "execution_count": 7,
   "metadata": {},
   "outputs": [
    {
     "data": {
      "text/html": [
       "<div>\n",
       "<style>\n",
       "    .dataframe thead tr:only-child th {\n",
       "        text-align: right;\n",
       "    }\n",
       "\n",
       "    .dataframe thead th {\n",
       "        text-align: left;\n",
       "    }\n",
       "\n",
       "    .dataframe tbody tr th {\n",
       "        vertical-align: top;\n",
       "    }\n",
       "</style>\n",
       "<table border=\"1\" class=\"dataframe\">\n",
       "  <thead>\n",
       "    <tr style=\"text-align: right;\">\n",
       "      <th></th>\n",
       "      <th>name</th>\n",
       "      <th>definition</th>\n",
       "      <th>type</th>\n",
       "      <th>group</th>\n",
       "      <th>examples</th>\n",
       "      <th>origin</th>\n",
       "      <th>hashtags</th>\n",
       "      <th>synonyms</th>\n",
       "      <th>id</th>\n",
       "    </tr>\n",
       "  </thead>\n",
       "  <tbody>\n",
       "    <tr>\n",
       "      <th>0</th>\n",
       "      <td>#Mannequinchallenge</td>\n",
       "      <td>Манекен Челлендж - вирусный тренд, в котором в...</td>\n",
       "      <td>NaN</td>\n",
       "      <td>NaN</td>\n",
       "      <td>NaN</td>\n",
       "      <td>Самый крутой челлендж, по-моему мнению, на дан...</td>\n",
       "      <td>NaN</td>\n",
       "      <td>_</td>\n",
       "      <td>1</td>\n",
       "    </tr>\n",
       "  </tbody>\n",
       "</table>\n",
       "</div>"
      ],
      "text/plain": [
       "                  name                                         definition  \\\n",
       "0  #Mannequinchallenge  Манекен Челлендж - вирусный тренд, в котором в...   \n",
       "\n",
       "   type  group  examples                                             origin  \\\n",
       "0   NaN    NaN       NaN  Самый крутой челлендж, по-моему мнению, на дан...   \n",
       "\n",
       "   hashtags synonyms  id  \n",
       "0       NaN        _   1  "
      ]
     },
     "execution_count": 7,
     "metadata": {},
     "output_type": "execute_result"
    }
   ],
   "source": [
    "vsekidki_df = pd.read_csv(vsekidki_appwords_csv)\n",
    "vsekidki_df.head(1)"
   ]
  },
  {
   "cell_type": "code",
   "execution_count": null,
   "metadata": {
    "collapsed": true
   },
   "outputs": [],
   "source": [
    "vsekidki_df = vsekidki_df.drop(\"id\", 1)\n",
    "vsekidki_df.drop_duplicates(inplace=True, keep='first')\n",
    "vsekidki_df[\"id\"] = vsekidki_df.index + 1"
   ]
  },
  {
   "cell_type": "code",
   "execution_count": 10,
   "metadata": {},
   "outputs": [
    {
     "data": {
      "text/plain": [
       "1307"
      ]
     },
     "execution_count": 10,
     "metadata": {},
     "output_type": "execute_result"
    }
   ],
   "source": [
    "vsekidki_df.to_csv(vsekidki_appwords_csv, index=False)\n",
    "len(vsekidki_df)"
   ]
  },
  {
   "cell_type": "code",
   "execution_count": null,
   "metadata": {
    "collapsed": true
   },
   "outputs": [],
   "source": []
  },
  {
   "cell_type": "code",
   "execution_count": null,
   "metadata": {
    "collapsed": true
   },
   "outputs": [],
   "source": []
  },
  {
   "cell_type": "code",
   "execution_count": null,
   "metadata": {
    "collapsed": true
   },
   "outputs": [],
   "source": []
  }
 ],
 "metadata": {
  "kernelspec": {
   "display_name": "py36-kernel",
   "language": "python",
   "name": "py36-kernel"
  },
  "language_info": {
   "codemirror_mode": {
    "name": "ipython",
    "version": 3
   },
   "file_extension": ".py",
   "mimetype": "text/x-python",
   "name": "python",
   "nbconvert_exporter": "python",
   "pygments_lexer": "ipython3",
   "version": "3.6.5"
  }
 },
 "nbformat": 4,
 "nbformat_minor": 2
}
